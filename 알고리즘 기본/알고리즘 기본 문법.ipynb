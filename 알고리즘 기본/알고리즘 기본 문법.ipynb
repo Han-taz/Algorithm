{
 "cells": [
  {
   "cell_type": "markdown",
   "id": "66b933a6-916a-4097-a04f-0ba7d50d2035",
   "metadata": {},
   "source": [
    "# 시간측정하기"
   ]
  },
  {
   "cell_type": "code",
   "execution_count": 1,
   "id": "be304930-45af-4efd-8481-fa83db1854eb",
   "metadata": {},
   "outputs": [],
   "source": [
    "import time"
   ]
  },
  {
   "cell_type": "code",
   "execution_count": 3,
   "id": "c82621d6-382d-4ffb-99ed-ff013e4d306f",
   "metadata": {},
   "outputs": [],
   "source": [
    "start_time = time.time()# 측정 시작\n",
    "end_time = time.time() # 측정 종료"
   ]
  },
  {
   "cell_type": "code",
   "execution_count": 5,
   "id": "4820852e-f5b3-4d3a-b580-6928fb0dea23",
   "metadata": {},
   "outputs": [
    {
     "name": "stdout",
     "output_type": "stream",
     "text": [
      "time: 0.0\n"
     ]
    }
   ],
   "source": [
    "print(\"time:\", end_time - start_time)"
   ]
  },
  {
   "cell_type": "markdown",
   "id": "82acdd7c-c6aa-4abf-ad67-17cc43381e98",
   "metadata": {},
   "source": [
    "# 부동소수점 문제 해결"
   ]
  },
  {
   "cell_type": "code",
   "execution_count": 7,
   "id": "ff75f06f-1036-4c15-b590-6bbb2239dab1",
   "metadata": {},
   "outputs": [],
   "source": [
    "a = 0.3+0.6"
   ]
  },
  {
   "cell_type": "code",
   "execution_count": 8,
   "id": "154fc79f-1031-4107-bda8-dd65955b22a8",
   "metadata": {},
   "outputs": [
    {
     "name": "stdout",
     "output_type": "stream",
     "text": [
      "False\n"
     ]
    }
   ],
   "source": [
    "if a == 0.9:\n",
    "    print(\"True\")\n",
    "else:\n",
    "    print(\"False\")"
   ]
  },
  {
   "cell_type": "code",
   "execution_count": 11,
   "id": "f15eea37-993a-4691-95bf-b635e79a59e9",
   "metadata": {},
   "outputs": [],
   "source": [
    "# round() 사용"
   ]
  },
  {
   "cell_type": "code",
   "execution_count": 10,
   "id": "f45e7289-98c8-44d9-a477-5762e06a39e3",
   "metadata": {},
   "outputs": [
    {
     "name": "stdout",
     "output_type": "stream",
     "text": [
      "True\n"
     ]
    }
   ],
   "source": [
    "if round(a,2) == 0.9:\n",
    "    print(\"True\")\n",
    "else:\n",
    "    print(\"False\")"
   ]
  },
  {
   "cell_type": "code",
   "execution_count": 23,
   "id": "a381ebf2-da6e-4686-acc0-8a5f4e0dc4e7",
   "metadata": {},
   "outputs": [],
   "source": [
    "# 리스트 컴프리헨션\n",
    "# 특히 n x m 크기의 2차원 리스트르 한 번에 초기화 할 때 유용\n",
    "m =4\n",
    "n=3\n",
    "array = [[0] * m for _ in range(n)]"
   ]
  },
  {
   "cell_type": "code",
   "execution_count": 24,
   "id": "3e26adb8-6d9a-40f2-af07-d25804266bd1",
   "metadata": {},
   "outputs": [],
   "source": [
    "# 잘못된 예시\n",
    "f_array = [[0]*m]*n"
   ]
  },
  {
   "cell_type": "code",
   "execution_count": 25,
   "id": "f05cacb1-4ef0-4b5a-8489-5e86cc862558",
   "metadata": {},
   "outputs": [
    {
     "name": "stdout",
     "output_type": "stream",
     "text": [
      "array:\n",
      " [[0, 0, 0, 0], [0, 0, 0, 0], [0, 0, 0, 0]]\n",
      "f_array: \n",
      " [[0, 0, 0, 0], [0, 0, 0, 0], [0, 0, 0, 0]]\n"
     ]
    }
   ],
   "source": [
    "print('array:\\n',array)\n",
    "print(\"f_array: \\n\",f_array)"
   ]
  },
  {
   "cell_type": "code",
   "execution_count": 26,
   "id": "7eb985ca-d426-4843-9263-238d5af3ff5e",
   "metadata": {},
   "outputs": [],
   "source": [
    "array[1][1] = 5"
   ]
  },
  {
   "cell_type": "code",
   "execution_count": 27,
   "id": "12e9e57c-03f7-4349-ac8b-b6d5efb13ea4",
   "metadata": {},
   "outputs": [
    {
     "data": {
      "text/plain": [
       "[[0, 0, 0, 0], [0, 5, 0, 0], [0, 0, 0, 0]]"
      ]
     },
     "execution_count": 27,
     "metadata": {},
     "output_type": "execute_result"
    }
   ],
   "source": [
    "array"
   ]
  },
  {
   "cell_type": "markdown",
   "id": "9974c7f7-f163-4e56-9b8e-22db14899dd1",
   "metadata": {},
   "source": [
    "# 튜플 사용하면 좋은 경우\n",
    "- 서로 다른 성질의 데이터를 묶어서 관리할 때 (최단 경로 알고리즘에서는 (비용,노드번호)의 형태로 튜플 자료형을 자주 사용\n",
    "- 데이터의 나열을 해싱의 키 값으로 사용해야 할 때\n",
    "- 리스트보다 메모리를 효율적으로 사용해야 할 때"
   ]
  },
  {
   "cell_type": "code",
   "execution_count": 31,
   "id": "d015d899-865c-4011-b206-bed5ec0c07ed",
   "metadata": {},
   "outputs": [
    {
     "name": "stdin",
     "output_type": "stream",
     "text": [
      " 1,2,3,4,455,7\n"
     ]
    }
   ],
   "source": [
    "data = list(map(int,input().split(',')))"
   ]
  },
  {
   "cell_type": "code",
   "execution_count": 33,
   "id": "e6e20d65-2774-4d4b-8df6-47e684ba9290",
   "metadata": {},
   "outputs": [
    {
     "name": "stdout",
     "output_type": "stream",
     "text": [
      "[1, 2, 3, 4, 455, 7]\n"
     ]
    }
   ],
   "source": [
    "print(data)"
   ]
  },
  {
   "cell_type": "markdown",
   "id": "19cb045d-94ec-41e3-80df-548f8d8a64ab",
   "metadata": {},
   "source": [
    "# 빠르게 입력 받기\n",
    "- sys.stdin.readline() 사용하기\n",
    "- 단 입력 후 엔터가 줄 바꿈 기호로 입력되므로 rstrip()메서드를 함께 사용합니다."
   ]
  },
  {
   "cell_type": "code",
   "execution_count": 37,
   "id": "480a8ec5-1133-4e02-910b-9c72d278a798",
   "metadata": {},
   "outputs": [
    {
     "name": "stdout",
     "output_type": "stream",
     "text": [
      "\n"
     ]
    }
   ],
   "source": [
    "import sys\n",
    "data2 = sys.stdin.readline().rstrip()\n",
    "print(data2)"
   ]
  },
  {
   "cell_type": "markdown",
   "id": "60c5cace-5a19-4dfb-89cf-5b040a6c1036",
   "metadata": {},
   "source": [
    "# 조건문 컴프리헨션"
   ]
  },
  {
   "cell_type": "code",
   "execution_count": 40,
   "id": "b5c940e4-c91f-4a80-b555-a759c19467d5",
   "metadata": {},
   "outputs": [
    {
     "name": "stdout",
     "output_type": "stream",
     "text": [
      "success\n"
     ]
    }
   ],
   "source": [
    "score = 85\n",
    "result = \"success\" if score >= 80 else \"fail\"\n",
    "print(result)"
   ]
  },
  {
   "cell_type": "code",
   "execution_count": 46,
   "id": "069247d0-a484-46db-9ec4-b1d8342f535b",
   "metadata": {},
   "outputs": [
    {
     "name": "stdout",
     "output_type": "stream",
     "text": [
      "x는 0이상 10미만의 수입니다\n"
     ]
    }
   ],
   "source": [
    "x= 9\n",
    "if x> 0 and x < 10: # if 0< x < 10\n",
    "    print(\"x는 0이상 10미만의 수입니다\")"
   ]
  },
  {
   "cell_type": "markdown",
   "id": "7b404219-737a-4776-b0b4-1f2182cd464f",
   "metadata": {},
   "source": [
    "# 람다 표현식"
   ]
  },
  {
   "cell_type": "code",
   "execution_count": 58,
   "id": "67362a3e-fe69-4c09-8521-535175ad526d",
   "metadata": {},
   "outputs": [],
   "source": [
    "array = [(\"A\",43),(\"B\",83),(\"C\",93)]"
   ]
  },
  {
   "cell_type": "code",
   "execution_count": 59,
   "id": "09eb89ca-0abb-488d-aa76-ab9015daad38",
   "metadata": {},
   "outputs": [],
   "source": [
    "def my_key(x):\n",
    "    return x[1]"
   ]
  },
  {
   "cell_type": "code",
   "execution_count": 62,
   "id": "0525177f-f985-40e6-94fb-f5fb998bf6e3",
   "metadata": {},
   "outputs": [
    {
     "name": "stdout",
     "output_type": "stream",
     "text": [
      "[('C', 93), ('B', 83), ('A', 43)]\n",
      "[('A', 43), ('B', 83), ('C', 93)]\n"
     ]
    }
   ],
   "source": [
    "print(sorted(array,key=my_key,reverse=True))\n",
    "print(sorted(array,key = lambda x:x[1]))"
   ]
  },
  {
   "cell_type": "code",
   "execution_count": 63,
   "id": "89368bce-a4ae-4d4a-b6b9-d04af25254b6",
   "metadata": {},
   "outputs": [],
   "source": [
    "list1 =[1,2,3,4,5,6]\n",
    "list2 = [2,3,4,5,6,7]"
   ]
  },
  {
   "cell_type": "code",
   "execution_count": 65,
   "id": "14b43ab0-82cc-4fd8-ab8a-a143504e6138",
   "metadata": {},
   "outputs": [
    {
     "name": "stdout",
     "output_type": "stream",
     "text": [
      "[3, 5, 7, 9, 11, 13]\n"
     ]
    }
   ],
   "source": [
    "result = map(lambda a,b : a+b, list1, list2)\n",
    "print(list(result))"
   ]
  },
  {
   "cell_type": "markdown",
   "id": "cbc8edba-2b7b-49c4-83c1-db228d748bd1",
   "metadata": {},
   "source": [
    "# 순열과 조합"
   ]
  },
  {
   "cell_type": "markdown",
   "id": "d265b853-e141-4aa0-badd-9ee65dc39a04",
   "metadata": {},
   "source": [
    "## 순열\n",
    "- 서로 다른 n개에서 서로 다른 r개를 선택하여 일렬로 나열하는 것"
   ]
  },
  {
   "cell_type": "code",
   "execution_count": 67,
   "id": "17a7c97c-82fb-489e-b1e1-2dd64eda97bc",
   "metadata": {},
   "outputs": [],
   "source": [
    "from itertools import permutations"
   ]
  },
  {
   "cell_type": "code",
   "execution_count": 68,
   "id": "49254569-26db-4f4e-9a1f-29d3fe725696",
   "metadata": {},
   "outputs": [],
   "source": [
    "data = ['A','B','C']"
   ]
  },
  {
   "cell_type": "code",
   "execution_count": 70,
   "id": "1c191796-b0f3-4694-8db2-29ca694ee077",
   "metadata": {},
   "outputs": [
    {
     "data": {
      "text/plain": [
       "[('A', 'B', 'C'),\n",
       " ('A', 'C', 'B'),\n",
       " ('B', 'A', 'C'),\n",
       " ('B', 'C', 'A'),\n",
       " ('C', 'A', 'B'),\n",
       " ('C', 'B', 'A')]"
      ]
     },
     "execution_count": 70,
     "metadata": {},
     "output_type": "execute_result"
    }
   ],
   "source": [
    "#모든 순열 구하기\n",
    "result = list(permutations(data,3))\n",
    "result"
   ]
  },
  {
   "cell_type": "code",
   "execution_count": 74,
   "id": "17a2b6a0-7b22-4b2b-af97-3262ad13641c",
   "metadata": {},
   "outputs": [],
   "source": [
    "data2 = ['A','B','C','D','E']"
   ]
  },
  {
   "cell_type": "code",
   "execution_count": 78,
   "id": "c41f8297-358e-412a-a87f-bce672aeae41",
   "metadata": {},
   "outputs": [
    {
     "name": "stdout",
     "output_type": "stream",
     "text": [
      "[('A', 'B', 'C'), ('A', 'B', 'D'), ('A', 'B', 'E'), ('A', 'C', 'B'), ('A', 'C', 'D'), ('A', 'C', 'E'), ('A', 'D', 'B'), ('A', 'D', 'C'), ('A', 'D', 'E'), ('A', 'E', 'B'), ('A', 'E', 'C'), ('A', 'E', 'D'), ('B', 'A', 'C'), ('B', 'A', 'D'), ('B', 'A', 'E'), ('B', 'C', 'A'), ('B', 'C', 'D'), ('B', 'C', 'E'), ('B', 'D', 'A'), ('B', 'D', 'C'), ('B', 'D', 'E'), ('B', 'E', 'A'), ('B', 'E', 'C'), ('B', 'E', 'D'), ('C', 'A', 'B'), ('C', 'A', 'D'), ('C', 'A', 'E'), ('C', 'B', 'A'), ('C', 'B', 'D'), ('C', 'B', 'E'), ('C', 'D', 'A'), ('C', 'D', 'B'), ('C', 'D', 'E'), ('C', 'E', 'A'), ('C', 'E', 'B'), ('C', 'E', 'D'), ('D', 'A', 'B'), ('D', 'A', 'C'), ('D', 'A', 'E'), ('D', 'B', 'A'), ('D', 'B', 'C'), ('D', 'B', 'E'), ('D', 'C', 'A'), ('D', 'C', 'B'), ('D', 'C', 'E'), ('D', 'E', 'A'), ('D', 'E', 'B'), ('D', 'E', 'C'), ('E', 'A', 'B'), ('E', 'A', 'C'), ('E', 'A', 'D'), ('E', 'B', 'A'), ('E', 'B', 'C'), ('E', 'B', 'D'), ('E', 'C', 'A'), ('E', 'C', 'B'), ('E', 'C', 'D'), ('E', 'D', 'A'), ('E', 'D', 'B'), ('E', 'D', 'C')]\n"
     ]
    }
   ],
   "source": [
    "result2 = list(permutations(data2,3))\n",
    "print(result2)"
   ]
  },
  {
   "cell_type": "markdown",
   "id": "b993d6c3-bdc8-4072-82be-6ca850b62eb8",
   "metadata": {},
   "source": [
    "## 조합\n",
    "- 서로 다른 n개에서 순서에 상관 없이 서로 다른 r개를 선택하는 것"
   ]
  },
  {
   "cell_type": "code",
   "execution_count": 79,
   "id": "7ef5928a-b622-4c49-8244-195afddb9a86",
   "metadata": {},
   "outputs": [],
   "source": [
    "from itertools import combinations"
   ]
  },
  {
   "cell_type": "code",
   "execution_count": 80,
   "id": "31eb6b9d-d447-4931-9f3f-cab145d9edf0",
   "metadata": {},
   "outputs": [],
   "source": [
    "data = ['A','B','C']"
   ]
  },
  {
   "cell_type": "code",
   "execution_count": 81,
   "id": "5515ce81-a671-4fff-bd06-30fa9b0342cd",
   "metadata": {},
   "outputs": [
    {
     "name": "stdout",
     "output_type": "stream",
     "text": [
      "[('A', 'B'), ('A', 'C'), ('B', 'C')]\n"
     ]
    }
   ],
   "source": [
    "result = list(combinations(data,2))\n",
    "print(result)"
   ]
  },
  {
   "cell_type": "markdown",
   "id": "1af73367-4913-4764-b463-67e3dcae5103",
   "metadata": {
    "tags": []
   },
   "source": [
    "# 중복 순열과 중복 조합"
   ]
  },
  {
   "cell_type": "code",
   "execution_count": 83,
   "id": "e23a9f1d-0aa3-41a8-8c5f-08136064bc57",
   "metadata": {},
   "outputs": [],
   "source": [
    "from itertools import product"
   ]
  },
  {
   "cell_type": "code",
   "execution_count": 84,
   "id": "a240e8ee-07b1-47cf-b8d0-730fa40dbac3",
   "metadata": {},
   "outputs": [],
   "source": [
    "data = ['A','B','C']"
   ]
  },
  {
   "cell_type": "code",
   "execution_count": 86,
   "id": "84543a3b-c0ce-43b4-951d-04934801ec11",
   "metadata": {},
   "outputs": [
    {
     "name": "stdout",
     "output_type": "stream",
     "text": [
      "[('A', 'A'), ('A', 'B'), ('A', 'C'), ('B', 'A'), ('B', 'B'), ('B', 'C'), ('C', 'A'), ('C', 'B'), ('C', 'C')]\n"
     ]
    }
   ],
   "source": [
    "result = list(product(data,repeat=2))\n",
    "print(result)"
   ]
  },
  {
   "cell_type": "code",
   "execution_count": 87,
   "id": "c42fec3f-ebe5-4df6-8f77-ee669bc9afcc",
   "metadata": {},
   "outputs": [],
   "source": [
    "from itertools import combinations_with_replacement"
   ]
  },
  {
   "cell_type": "code",
   "execution_count": 88,
   "id": "e1ced8a6-8218-4894-89f1-7381984d0f72",
   "metadata": {},
   "outputs": [],
   "source": [
    "data = ['A','B','C']"
   ]
  },
  {
   "cell_type": "code",
   "execution_count": 90,
   "id": "7abd6218-2566-4f33-8869-2557826d5969",
   "metadata": {},
   "outputs": [
    {
     "name": "stdout",
     "output_type": "stream",
     "text": [
      "[('A', 'A', 'A'), ('A', 'A', 'B'), ('A', 'A', 'C'), ('A', 'B', 'B'), ('A', 'B', 'C'), ('A', 'C', 'C'), ('B', 'B', 'B'), ('B', 'B', 'C'), ('B', 'C', 'C'), ('C', 'C', 'C')]\n"
     ]
    }
   ],
   "source": [
    "result = list(combinations_with_replacement(data,3))\n",
    "print(result)"
   ]
  },
  {
   "cell_type": "markdown",
   "id": "7cc56de7-d17d-4362-86fa-5386d51e3d2d",
   "metadata": {},
   "source": [
    "# Counter"
   ]
  },
  {
   "cell_type": "code",
   "execution_count": 100,
   "id": "0237e975-cfee-427e-9bdc-b89266c8b1c0",
   "metadata": {},
   "outputs": [],
   "source": [
    "from collections import Counter"
   ]
  },
  {
   "cell_type": "code",
   "execution_count": 101,
   "id": "efa63518-ec2d-4164-91d6-37d6eded0dee",
   "metadata": {},
   "outputs": [],
   "source": [
    "data = ['A','B','C','A','A','B','B','C']"
   ]
  },
  {
   "cell_type": "code",
   "execution_count": 103,
   "id": "4273f431-ec4f-413e-8fe9-7c621a4e5504",
   "metadata": {},
   "outputs": [
    {
     "name": "stdout",
     "output_type": "stream",
     "text": [
      "3\n",
      "3\n",
      "2\n",
      "{'A': 3, 'B': 3, 'C': 2}\n"
     ]
    }
   ],
   "source": [
    "cnt = Counter(data)\n",
    "print(cnt['A'])\n",
    "print(cnt['B'])\n",
    "print(cnt['C'])\n",
    "print(dict(cnt))"
   ]
  },
  {
   "cell_type": "markdown",
   "id": "57673d8d-b799-46f1-acd4-2a332d690733",
   "metadata": {},
   "source": [
    "# Math"
   ]
  },
  {
   "cell_type": "code",
   "execution_count": 94,
   "id": "6bce32a2-203a-41f6-80b4-7397f5fb682a",
   "metadata": {},
   "outputs": [],
   "source": [
    "import math"
   ]
  },
  {
   "cell_type": "code",
   "execution_count": 97,
   "id": "7551179a-dc94-4879-8909-91b7fd39109e",
   "metadata": {},
   "outputs": [
    {
     "name": "stdout",
     "output_type": "stream",
     "text": [
      "7\n"
     ]
    }
   ],
   "source": [
    "# gcd(최대공약수) 계산하기\n",
    "print(math.gcd(21,14))"
   ]
  },
  {
   "cell_type": "code",
   "execution_count": 98,
   "id": "5cdb54b3-849f-4fd8-86b0-247479e43787",
   "metadata": {},
   "outputs": [],
   "source": [
    "# lcm(최소공배수) 계산하기\n",
    "def lcm(a,b):\n",
    "    return a * b // math.gcd(a,b)"
   ]
  },
  {
   "cell_type": "code",
   "execution_count": 99,
   "id": "c20644ac-576d-4174-9c1e-dda8e5bf48f4",
   "metadata": {},
   "outputs": [
    {
     "name": "stdout",
     "output_type": "stream",
     "text": [
      "42\n"
     ]
    }
   ],
   "source": [
    "print(lcm(21,14))"
   ]
  },
  {
   "cell_type": "code",
   "execution_count": null,
   "id": "be809380-0983-477f-9659-4872601b40d4",
   "metadata": {},
   "outputs": [],
   "source": []
  }
 ],
 "metadata": {
  "kernelspec": {
   "display_name": "Python 3 (ipykernel)",
   "language": "python",
   "name": "python3"
  },
  "language_info": {
   "codemirror_mode": {
    "name": "ipython",
    "version": 3
   },
   "file_extension": ".py",
   "mimetype": "text/x-python",
   "name": "python",
   "nbconvert_exporter": "python",
   "pygments_lexer": "ipython3",
   "version": "3.9.12"
  }
 },
 "nbformat": 4,
 "nbformat_minor": 5
}
