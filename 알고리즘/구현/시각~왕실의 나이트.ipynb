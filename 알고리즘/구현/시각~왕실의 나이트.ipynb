{
 "cells": [
  {
   "cell_type": "markdown",
   "id": "a2fbb0e8-ec9d-4eb4-88ba-d8599e2d3716",
   "metadata": {},
   "source": [
    "# 시각\n",
    "### 정수 n이 입력되면 00시 00분 00초부터 n시 59분 59초까지의 모든 시각 중에서 3이 하나라도 포함되는 모든 경우의 수를 구하는 프로그램을 작성하시오."
   ]
  },
  {
   "cell_type": "code",
   "execution_count": 1,
   "id": "782af9ec-0bd7-4bd3-afd3-3f6fef2fde15",
   "metadata": {},
   "outputs": [],
   "source": [
    "n = 10"
   ]
  },
  {
   "cell_type": "code",
   "execution_count": 27,
   "id": "f763e187-b167-4dc1-9b77-a9a6d6aac74d",
   "metadata": {
    "tags": []
   },
   "outputs": [
    {
     "name": "stdout",
     "output_type": "stream",
     "text": [
      "19350\n"
     ]
    }
   ],
   "source": [
    "count = 0\n",
    "for i in range(n+1):\n",
    "    for j in range(60):\n",
    "        for k in range(60):\n",
    "            #print(f'i={i},j={j},k={k}')\n",
    "            #print(str(i) + str(j) + str(k))\n",
    "            if '3' in str(i) + str(j) + str(k):\n",
    "                count+=1\n",
    "print(count)\n",
    "                "
   ]
  },
  {
   "cell_type": "markdown",
   "id": "6d22778a-a851-48d8-801b-75dee86d81ae",
   "metadata": {},
   "source": [
    "# 왕실의 나이트"
   ]
  },
  {
   "cell_type": "code",
   "execution_count": 23,
   "id": "fc2f4b89-fe55-4171-b7ff-12fac0b20255",
   "metadata": {},
   "outputs": [
    {
     "name": "stdin",
     "output_type": "stream",
     "text": [
      " a1\n"
     ]
    }
   ],
   "source": [
    "input_data = input()"
   ]
  },
  {
   "cell_type": "markdown",
   "id": "76653df0-8b81-436f-8295-016fdff85dfa",
   "metadata": {
    "tags": []
   },
   "source": [
    "### ord(문자)\n",
    "하나의 문자를 인자로 받고 해당 문자에 해당하는 유니코드 정수를 반환합니다.\n",
    "\n",
    "ord('a')를 넣으면 정수 97을 반환합니다."
   ]
  },
  {
   "cell_type": "code",
   "execution_count": 24,
   "id": "974cc29b-6b7a-447a-857b-d3f5ed8a4bfe",
   "metadata": {},
   "outputs": [
    {
     "data": {
      "text/plain": [
       "1"
      ]
     },
     "execution_count": 24,
     "metadata": {},
     "output_type": "execute_result"
    }
   ],
   "source": [
    "row = int(input_data[1])\n",
    "row"
   ]
  },
  {
   "cell_type": "code",
   "execution_count": 25,
   "id": "f608be81-fea9-450a-a112-da7cb16b6b04",
   "metadata": {},
   "outputs": [
    {
     "data": {
      "text/plain": [
       "1"
      ]
     },
     "execution_count": 25,
     "metadata": {},
     "output_type": "execute_result"
    }
   ],
   "source": [
    "columns = int(ord(input_data[0])) - int(ord('a')) +1\n",
    "columns"
   ]
  },
  {
   "cell_type": "code",
   "execution_count": 17,
   "id": "3bd8bbb1-6793-4286-a6d6-77649d8bf204",
   "metadata": {},
   "outputs": [
    {
     "name": "stdout",
     "output_type": "stream",
     "text": [
      "101 \n",
      " 97\n"
     ]
    }
   ],
   "source": [
    "#print(int(ord(input_data[0])),'\\n',int(ord('a')))"
   ]
  },
  {
   "cell_type": "code",
   "execution_count": 18,
   "id": "4d471621-35b4-4762-b5f3-71f360b664c5",
   "metadata": {},
   "outputs": [
    {
     "data": {
      "text/plain": [
       "4"
      ]
     },
     "execution_count": 18,
     "metadata": {},
     "output_type": "execute_result"
    }
   ],
   "source": [
    "#int(ord(input_data[0])) - int(ord('a'))"
   ]
  },
  {
   "cell_type": "code",
   "execution_count": 19,
   "id": "34495f61-a03d-43f4-8cd0-9f7b34412c58",
   "metadata": {},
   "outputs": [],
   "source": [
    "# 나이트가 이동할 수 있는 좌표들 상하좌우 2칸 이동 후 양 옆 1칸 이동\n",
    "steps = [(-2,1),(-1,2),(1,2),(2,1),(-2,-1),(-1,-2),(1,-2),(2,-1)]"
   ]
  },
  {
   "cell_type": "code",
   "execution_count": 26,
   "id": "5e2b1d36-aabe-4fd2-903c-88e9da351465",
   "metadata": {},
   "outputs": [
    {
     "name": "stdout",
     "output_type": "stream",
     "text": [
      "2\n"
     ]
    }
   ],
   "source": [
    "result = 0\n",
    "for step in steps:\n",
    "    next_row = row +step[0]\n",
    "    next_columns = columns + step[1]\n",
    "    if next_row >= 1 and next_row <= 8 and next_columns >=1 and next_columns <= 8:\n",
    "        result += 1\n",
    "print(result)"
   ]
  },
  {
   "cell_type": "code",
   "execution_count": null,
   "id": "7aea3dc6-22ed-41ae-acd7-0452a76c4b39",
   "metadata": {},
   "outputs": [],
   "source": []
  }
 ],
 "metadata": {
  "kernelspec": {
   "display_name": "Python 3 (ipykernel)",
   "language": "python",
   "name": "python3"
  },
  "language_info": {
   "codemirror_mode": {
    "name": "ipython",
    "version": 3
   },
   "file_extension": ".py",
   "mimetype": "text/x-python",
   "name": "python",
   "nbconvert_exporter": "python",
   "pygments_lexer": "ipython3",
   "version": "3.10.9"
  }
 },
 "nbformat": 4,
 "nbformat_minor": 5
}
