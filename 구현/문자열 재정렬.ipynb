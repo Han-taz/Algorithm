{
 "cells": [
  {
   "cell_type": "code",
   "execution_count": null,
   "id": "5370dff2-374d-4c8e-8dd8-4ffdaea59678",
   "metadata": {},
   "outputs": [],
   "source": [
    "#모듈 생성 및 불러오기"
   ]
  },
  {
   "cell_type": "code",
   "execution_count": 1,
   "id": "d06eb301-4caf-4907-a118-c482074681c6",
   "metadata": {},
   "outputs": [],
   "source": [
    "import greeting as gr"
   ]
  },
  {
   "cell_type": "code",
   "execution_count": 2,
   "id": "1cd2aa9c-c072-4719-99d5-c7ee9bc22442",
   "metadata": {},
   "outputs": [
    {
     "name": "stdout",
     "output_type": "stream",
     "text": [
      "안녕,'kevin'?\n"
     ]
    }
   ],
   "source": [
    "gr.say_hello('kevin')"
   ]
  },
  {
   "cell_type": "code",
   "execution_count": 3,
   "id": "e308abb3-2008-4119-87a8-5102e14f24c5",
   "metadata": {},
   "outputs": [
    {
     "name": "stdout",
     "output_type": "stream",
     "text": [
      "또만나, kevin!\n"
     ]
    }
   ],
   "source": [
    "gr.say_goodbye('kevin')"
   ]
  },
  {
   "cell_type": "code",
   "execution_count": 7,
   "id": "fcec8325-8c8a-46e2-b66d-2b29edc65c5d",
   "metadata": {},
   "outputs": [],
   "source": [
    "with open('class.txt','r',encoding='utf8') as f:\n",
    "    txt = f.read()"
   ]
  },
  {
   "cell_type": "code",
   "execution_count": 10,
   "id": "16d030f9-1a91-43ba-984d-375d7c732634",
   "metadata": {},
   "outputs": [
    {
     "data": {
      "text/plain": [
       "'초록반 5세 20명 파랑반 6세 18명 노랑반 7세 22명'"
      ]
     },
     "execution_count": 10,
     "metadata": {},
     "output_type": "execute_result"
    }
   ],
   "source": [
    "txt"
   ]
  },
  {
   "cell_type": "code",
   "execution_count": 14,
   "id": "4bb9bd6f-2956-46a8-b19a-f5bf6a79009c",
   "metadata": {},
   "outputs": [],
   "source": [
    "words = txt.split()"
   ]
  },
  {
   "cell_type": "code",
   "execution_count": 26,
   "id": "fe83ed14-31b3-4fd9-93f7-79f3c0923912",
   "metadata": {},
   "outputs": [
    {
     "name": "stdout",
     "output_type": "stream",
     "text": [
      "초록반 5세 20명 \n",
      "********************\n",
      "20명\n",
      "파랑반 6세 18명 \n",
      "********************\n",
      "18명\n",
      "노랑반 7세 22명 \n",
      "********************\n",
      "22명\n"
     ]
    }
   ],
   "source": [
    "for word in words:\n",
    "    print(word,end=' ')\n",
    "    if word.endswith('명'):\n",
    "        print()\n",
    "        print('*'*20)\n",
    "        print(word)"
   ]
  },
  {
   "cell_type": "code",
   "execution_count": 36,
   "id": "a2a2c8b8-76f8-4c9d-a1c4-1d4e7e5c3110",
   "metadata": {},
   "outputs": [
    {
     "name": "stdout",
     "output_type": "stream",
     "text": [
      "초록반\n",
      "5세\n",
      "20명\n",
      "파랑반\n",
      "6세\n",
      "18명\n",
      "노랑반\n",
      "7세\n",
      "22명\n"
     ]
    }
   ],
   "source": [
    "for word in words:\n",
    "    print(word,sep='반')"
   ]
  },
  {
   "cell_type": "markdown",
   "id": "77182173-fd2a-40f1-b59b-4cc08c6e9c39",
   "metadata": {},
   "source": [
    "# 문자열 재정렬\n",
    "### 알파벳 대문자와 숫자(0~9)로만 구성된 문자열이 입력으로 주어집니다.이떄 모든 아파벳을 오름차순으로 정렬하여 이어서 출력한 뒤에, 그 뒤에 모든 숫자를 더한 값을 이어서 출력합니다.\n",
    "### 예를 들어 K1KA5CB7이라는 값이 들어오면 ABCKK13을 출력합니다"
   ]
  },
  {
   "cell_type": "code",
   "execution_count": 37,
   "id": "bd51e033-0868-4579-99db-d96e14a51dce",
   "metadata": {},
   "outputs": [
    {
     "name": "stdin",
     "output_type": "stream",
     "text": [
      " K1KA5CB7\n"
     ]
    }
   ],
   "source": [
    "input_data = input()"
   ]
  },
  {
   "cell_type": "code",
   "execution_count": 38,
   "id": "ae3af278-93ec-4b2f-965e-03edf407e438",
   "metadata": {},
   "outputs": [
    {
     "data": {
      "text/plain": [
       "'K1KA5CB7'"
      ]
     },
     "execution_count": 38,
     "metadata": {},
     "output_type": "execute_result"
    }
   ],
   "source": [
    "input_data"
   ]
  },
  {
   "cell_type": "code",
   "execution_count": 52,
   "id": "cf653f4e-aab2-46ff-ab09-84ecb18b49a2",
   "metadata": {},
   "outputs": [],
   "source": [
    "import re"
   ]
  },
  {
   "cell_type": "code",
   "execution_count": 57,
   "id": "5e6ef4e8-2987-4233-ae69-388a7d274cbf",
   "metadata": {},
   "outputs": [],
   "source": [
    "words = re.compile('[^0-9]*')"
   ]
  },
  {
   "cell_type": "code",
   "execution_count": 58,
   "id": "12ef39a2-885f-4c0e-99a1-c9e93224191c",
   "metadata": {},
   "outputs": [],
   "source": [
    "str_word=words.match(input_data)"
   ]
  },
  {
   "cell_type": "code",
   "execution_count": 59,
   "id": "e50c9e90-5431-47cf-a927-7e7a8da8a0d1",
   "metadata": {},
   "outputs": [
    {
     "data": {
      "text/plain": [
       "<re.Match object; span=(0, 1), match='K'>"
      ]
     },
     "execution_count": 59,
     "metadata": {},
     "output_type": "execute_result"
    }
   ],
   "source": [
    "str_word"
   ]
  },
  {
   "cell_type": "code",
   "execution_count": 56,
   "id": "07efc4a1-3034-4b9d-8a61-be5498fcf2bc",
   "metadata": {},
   "outputs": [
    {
     "data": {
      "text/plain": [
       "<re.Match object; span=(0, 1), match='K'>"
      ]
     },
     "execution_count": 56,
     "metadata": {},
     "output_type": "execute_result"
    }
   ],
   "source": [
    "words.search(input_data)"
   ]
  },
  {
   "cell_type": "code",
   "execution_count": 64,
   "id": "f1b5203a-34b7-4aa7-9ad5-c3a998c2b942",
   "metadata": {},
   "outputs": [],
   "source": [
    "result=[]\n",
    "value = 0"
   ]
  },
  {
   "cell_type": "code",
   "execution_count": 65,
   "id": "0299bf29-200e-48c3-978a-776d028e77d2",
   "metadata": {},
   "outputs": [],
   "source": [
    "for i in input_data:\n",
    "    if i.isalpha():# 알파벳만 찾아냄\n",
    "        result.append(i)\n",
    "    else:\n",
    "        value += int(i)"
   ]
  },
  {
   "cell_type": "code",
   "execution_count": 66,
   "id": "f9917d76-69e2-4aae-ad16-99520847e0d8",
   "metadata": {},
   "outputs": [
    {
     "name": "stdout",
     "output_type": "stream",
     "text": [
      "['K', 'K', 'A', 'C', 'B'] 13\n"
     ]
    }
   ],
   "source": [
    "print(result,value)"
   ]
  },
  {
   "cell_type": "code",
   "execution_count": 67,
   "id": "25c64786-63cd-415c-a2d9-ecb39e94691c",
   "metadata": {},
   "outputs": [],
   "source": [
    "if value != 0:\n",
    "    result.append(str(value))"
   ]
  },
  {
   "cell_type": "code",
   "execution_count": 68,
   "id": "cde19c4f-5098-4c81-b9aa-f918935a641c",
   "metadata": {},
   "outputs": [
    {
     "data": {
      "text/plain": [
       "['K', 'K', 'A', 'C', 'B', '13']"
      ]
     },
     "execution_count": 68,
     "metadata": {},
     "output_type": "execute_result"
    }
   ],
   "source": [
    "result"
   ]
  },
  {
   "cell_type": "code",
   "execution_count": 69,
   "id": "85b265ba-bc88-4870-8701-a507ff3448e2",
   "metadata": {},
   "outputs": [
    {
     "name": "stdout",
     "output_type": "stream",
     "text": [
      "KKACB13\n"
     ]
    }
   ],
   "source": [
    "print(''.join(result))"
   ]
  },
  {
   "cell_type": "code",
   "execution_count": 80,
   "id": "8c0c2ed9-76d8-45c9-a7b5-6712bfbb6cd5",
   "metadata": {},
   "outputs": [
    {
     "name": "stdout",
     "output_type": "stream",
     "text": [
      "['K', 'K', 'A', 'C', 'B', 13]\n"
     ]
    }
   ],
   "source": [
    "result2=[]\n",
    "value2=0\n",
    "for i in input_data:\n",
    "    if i.isnumeric():\n",
    "        value2 += int(i)\n",
    "    else:\n",
    "        result2.append(i)\n",
    "if value2 != 0:\n",
    "    result2.append(value2)\n",
    "print(result2)"
   ]
  },
  {
   "cell_type": "code",
   "execution_count": null,
   "id": "0e5265ea-3402-4118-a3ac-4b930be38831",
   "metadata": {},
   "outputs": [],
   "source": []
  }
 ],
 "metadata": {
  "kernelspec": {
   "display_name": "Python 3 (ipykernel)",
   "language": "python",
   "name": "python3"
  },
  "language_info": {
   "codemirror_mode": {
    "name": "ipython",
    "version": 3
   },
   "file_extension": ".py",
   "mimetype": "text/x-python",
   "name": "python",
   "nbconvert_exporter": "python",
   "pygments_lexer": "ipython3",
   "version": "3.10.9"
  }
 },
 "nbformat": 4,
 "nbformat_minor": 5
}
