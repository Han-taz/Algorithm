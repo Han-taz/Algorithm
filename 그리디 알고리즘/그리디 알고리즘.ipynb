{
 "cells": [
  {
   "cell_type": "markdown",
   "id": "24d1c840-6dac-4347-b064-7b81a52b7b33",
   "metadata": {},
   "source": [
    "# 그리디 알고리즘\n",
    "- 그리디 알고리즘(탐욕법)은 현재 상황에서 지금 당장 좋은 것만 고르는 방법을 의미합니다.\n",
    "- 일반적인 그리디 알고리즘은 문제를 풀기 위란 최소한의 아이디어를 떠올릴 수 있늕 나열을 요구합니다.\n",
    "- 그리디 해법은 그 정당성 분석이 중요합니다\n",
    "- 단순히 가장 좋아 보이는 것을 반복적으로 선택해도 최적의 해를 구할 수 있느지 검토합니다."
   ]
  },
  {
   "cell_type": "markdown",
   "id": "6fe68a2a-b205-4fc1-bc5c-f1e98fa1fa0d",
   "metadata": {},
   "source": [
    "## 거스름돈"
   ]
  },
  {
   "cell_type": "code",
   "execution_count": 26,
   "id": "0bc635f0-88d2-4168-8d08-f294d8027b2e",
   "metadata": {},
   "outputs": [
    {
     "name": "stdout",
     "output_type": "stream",
     "text": [
      "나누기 2.5\n",
      "몫 2\n",
      "나머지 1\n"
     ]
    }
   ],
   "source": [
    "print('나누기',5/2)\n",
    "print('몫',5//2)\n",
    "print('나머지',5%2)"
   ]
  },
  {
   "cell_type": "code",
   "execution_count": 29,
   "id": "afeb6233-d09d-4fd9-b0c5-e9744fc247ab",
   "metadata": {},
   "outputs": [],
   "source": [
    "n = 1260\n",
    "count = 0"
   ]
  },
  {
   "cell_type": "code",
   "execution_count": 30,
   "id": "a29b8fdf-ac9e-4a73-a556-cced68887c66",
   "metadata": {},
   "outputs": [],
   "source": [
    "array=[500,100,50,10]"
   ]
  },
  {
   "cell_type": "code",
   "execution_count": 31,
   "id": "87b6eb1a-9921-4774-a643-8586bbf6b606",
   "metadata": {},
   "outputs": [
    {
     "name": "stdout",
     "output_type": "stream",
     "text": [
      "사용한 500 동전 & 개수:  2\n",
      "********************\n",
      "남은 돈:  260\n",
      "********************\n",
      "사용한 100 동전 & 개수:  4\n",
      "********************\n",
      "남은 돈:  60\n",
      "********************\n",
      "사용한 50 동전 & 개수:  5\n",
      "********************\n",
      "남은 돈:  10\n",
      "********************\n",
      "사용한 10 동전 & 개수:  6\n",
      "********************\n",
      "남은 돈:  0\n",
      "********************\n",
      "6 0\n"
     ]
    }
   ],
   "source": [
    "for i in array:\n",
    "    count += n//i\n",
    "    print(f'사용한 {i} 동전 & 개수: ',count)\n",
    "    print('*'*20)\n",
    "    n %= i\n",
    "    print('남은 돈: ',n)\n",
    "    print('*'*20)\n",
    "print(count,n)"
   ]
  },
  {
   "cell_type": "code",
   "execution_count": 27,
   "id": "46d12ac1-9df1-4dad-8532-5b13299e0b73",
   "metadata": {},
   "outputs": [
    {
     "name": "stdout",
     "output_type": "stream",
     "text": [
      "250\n",
      "50\n",
      "0\n",
      "0\n"
     ]
    }
   ],
   "source": [
    "a = 1250\n",
    "for coin in array:\n",
    "    #print(coin)\n",
    "    a %= coin\n",
    "    print(a)"
   ]
  },
  {
   "cell_type": "markdown",
   "id": "94d6986f-7c65-471c-9499-db768a9eabae",
   "metadata": {},
   "source": [
    "## 큰 수의 법칙\n",
    "- n은 배열의 크기\n",
    "- m은 숫자가 더해지는 횟수\n",
    "- k는 연속하는 수가 k번을 초과해서 더해질 수 없다."
   ]
  },
  {
   "cell_type": "code",
   "execution_count": 44,
   "id": "1f4ec13a-b9ab-4a78-8d7e-f1b5734b0015",
   "metadata": {},
   "outputs": [
    {
     "name": "stdin",
     "output_type": "stream",
     "text": [
      " 5 8 3\n"
     ]
    }
   ],
   "source": [
    "n,m,k = map(int,input().split())"
   ]
  },
  {
   "cell_type": "code",
   "execution_count": 36,
   "id": "65f2ab1a-4248-42a1-a474-4c3e899bad60",
   "metadata": {},
   "outputs": [
    {
     "name": "stdin",
     "output_type": "stream",
     "text": [
      " 2 4 5 4 6\n"
     ]
    }
   ],
   "source": [
    "data = list(map(int,input().split()))"
   ]
  },
  {
   "cell_type": "code",
   "execution_count": 45,
   "id": "276c18ba-fdc1-417b-b2d3-384922dc6989",
   "metadata": {},
   "outputs": [
    {
     "name": "stdout",
     "output_type": "stream",
     "text": [
      "[2, 4, 4, 5, 6]\n"
     ]
    }
   ],
   "source": [
    "# 데이터 배열 정렬하기\n",
    "data.sort()\n",
    "print(data)"
   ]
  },
  {
   "cell_type": "code",
   "execution_count": 46,
   "id": "a6a81adc-2fcb-4b81-99ed-d7c2c5ec7d8d",
   "metadata": {},
   "outputs": [
    {
     "data": {
      "text/plain": [
       "6"
      ]
     },
     "execution_count": 46,
     "metadata": {},
     "output_type": "execute_result"
    }
   ],
   "source": [
    "#가장 큰 수\n",
    "first = data[n-1]\n",
    "first"
   ]
  },
  {
   "cell_type": "code",
   "execution_count": 47,
   "id": "5883af01-5d87-4562-9fc5-9b49ebfae938",
   "metadata": {},
   "outputs": [
    {
     "data": {
      "text/plain": [
       "5"
      ]
     },
     "execution_count": 47,
     "metadata": {},
     "output_type": "execute_result"
    }
   ],
   "source": [
    "#두 번째로 큰 수\n",
    "second = data[n-2]\n",
    "second"
   ]
  },
  {
   "cell_type": "code",
   "execution_count": 59,
   "id": "54a26cdf-b3c3-4dc6-965a-dc6e0356a72c",
   "metadata": {
    "tags": []
   },
   "outputs": [
    {
     "name": "stdout",
     "output_type": "stream",
     "text": [
      "5 8 3\n",
      "첫번째 8\n",
      "두번째 7\n",
      "첫번째 7\n",
      "두번째 6\n",
      "첫번째 6\n",
      "두번째 5\n",
      "세번째 5\n",
      "네번째 4\n",
      "첫번째 4\n",
      "두번째 3\n",
      "첫번째 3\n",
      "두번째 2\n",
      "첫번째 2\n",
      "두번째 1\n",
      "세번째 1\n",
      "네번째 0\n",
      "46\n"
     ]
    }
   ],
   "source": [
    "n,m,k= 5,8,3\n",
    "data = [2, 4, 4, 5, 6]\n",
    "print(n,m,k)\n",
    "result = 0\n",
    "while True:\n",
    "    for i in range(k): # k = 3 k와 같은 숫자 사용하지 마라\n",
    "        if m == 0:# m번 가장 놆은 수를 k번 까지만 더하여라\n",
    "            break # m이 0일 때 for문 탈출\n",
    "            \n",
    "        result += first # 결과값에 가장 큰 수를 m이 0이 될 때 까지 더하여라\n",
    "        print('첫번째',m)\n",
    "        m -= 1 # m을 하나씩 뺸다\n",
    "        print('두번째',m)\n",
    "    if m == 0:\n",
    "        break\n",
    "    result += second\n",
    "    print('세번째',m)\n",
    "    m -= 1\n",
    "    print('네번째',m)\n",
    "print(result)\n",
    "        \n",
    "    "
   ]
  },
  {
   "cell_type": "markdown",
   "id": "4bc4b9e9-c3ef-449a-9bd5-5673b78e6200",
   "metadata": {},
   "source": [
    "## 숫자 카드 게임"
   ]
  },
  {
   "cell_type": "code",
   "execution_count": 106,
   "id": "ba95e075-c1f2-4fd1-be39-7794e36bbb88",
   "metadata": {},
   "outputs": [
    {
     "name": "stdin",
     "output_type": "stream",
     "text": [
      " 3 3\n"
     ]
    }
   ],
   "source": [
    "n,m = map(int,input().split())"
   ]
  },
  {
   "cell_type": "code",
   "execution_count": 115,
   "id": "8dc1219f-116a-4b79-b638-c09ac2d77847",
   "metadata": {},
   "outputs": [
    {
     "name": "stdin",
     "output_type": "stream",
     "text": [
      "  3 1 2\n"
     ]
    },
    {
     "name": "stdout",
     "output_type": "stream",
     "text": [
      "[3, 1, 2]\n"
     ]
    },
    {
     "name": "stdin",
     "output_type": "stream",
     "text": [
      " 4 1 4\n"
     ]
    },
    {
     "name": "stdout",
     "output_type": "stream",
     "text": [
      "[3, 1, 2]\n"
     ]
    },
    {
     "name": "stdin",
     "output_type": "stream",
     "text": [
      "  2 2 2\n"
     ]
    },
    {
     "name": "stdout",
     "output_type": "stream",
     "text": [
      "[2, 2, 2]\n"
     ]
    }
   ],
   "source": [
    "data=[]\n",
    "for i in range(n):\n",
    "    data.append(list(map(int,input().split())))\n",
    "    print(min(data))\n",
    "        "
   ]
  },
  {
   "cell_type": "code",
   "execution_count": 113,
   "id": "e0633b8e-fae1-4cbd-9a92-6ea8e050416c",
   "metadata": {},
   "outputs": [
    {
     "data": {
      "text/plain": [
       "[[3, 1, 2], [4, 1, 4], [2, 2, 2]]"
      ]
     },
     "execution_count": 113,
     "metadata": {},
     "output_type": "execute_result"
    }
   ],
   "source": [
    "data"
   ]
  },
  {
   "cell_type": "code",
   "execution_count": 121,
   "id": "90d547dc-8237-45ad-9a3b-e0fdaa298886",
   "metadata": {},
   "outputs": [
    {
     "name": "stdin",
     "output_type": "stream",
     "text": [
      " 3 1 2\n"
     ]
    },
    {
     "name": "stdout",
     "output_type": "stream",
     "text": [
      "1\n",
      "1\n"
     ]
    },
    {
     "name": "stdin",
     "output_type": "stream",
     "text": [
      " 2 2 2\n"
     ]
    },
    {
     "name": "stdout",
     "output_type": "stream",
     "text": [
      "2\n",
      "2\n"
     ]
    },
    {
     "name": "stdin",
     "output_type": "stream",
     "text": [
      " 4 1 4\n"
     ]
    },
    {
     "name": "stdout",
     "output_type": "stream",
     "text": [
      "1\n",
      "2\n",
      "2\n"
     ]
    }
   ],
   "source": [
    "result = 0\n",
    "for i in range(n):\n",
    "    data = list(map(int,input().split()))\n",
    "    min_value = min(data)\n",
    "    print(min_value)\n",
    "    result = max(result,min_value)\n",
    "    print(result)\n",
    "print(result)"
   ]
  },
  {
   "cell_type": "code",
   "execution_count": 120,
   "id": "74ae6d1d-101e-45bc-bc22-2f0d6f74f849",
   "metadata": {},
   "outputs": [
    {
     "name": "stdin",
     "output_type": "stream",
     "text": [
      " 3 1 2\n",
      " 4 1 4\n",
      " 2 2 2\n"
     ]
    },
    {
     "name": "stdout",
     "output_type": "stream",
     "text": [
      "2\n"
     ]
    }
   ],
   "source": [
    "result = 0\n",
    "for i in range(n):\n",
    "    data = list(map(int,input().split()))\n",
    "    min_value = 10001\n",
    "    for j in data:\n",
    "        min_value = min(min_value,j)\n",
    "    result= max(result,min_value)\n",
    "print(result)"
   ]
  },
  {
   "cell_type": "markdown",
   "id": "9fdefe84-7b00-487f-bbf9-dad9d7264392",
   "metadata": {},
   "source": [
    "## 1이 될 때 까지"
   ]
  },
  {
   "cell_type": "code",
   "execution_count": 156,
   "id": "d760ab27-1058-494d-9fc2-fd5c3b1ed5fb",
   "metadata": {},
   "outputs": [
    {
     "name": "stdin",
     "output_type": "stream",
     "text": [
      " 27 2\n"
     ]
    }
   ],
   "source": [
    "n, k = map(int,input().split())"
   ]
  },
  {
   "cell_type": "code",
   "execution_count": 139,
   "id": "4df30d52-6d6d-487d-a94f-227c97cf3e3a",
   "metadata": {},
   "outputs": [
    {
     "name": "stdout",
     "output_type": "stream",
     "text": [
      "1 2\n"
     ]
    }
   ],
   "source": [
    "count = 0\n",
    "while n>=k:\n",
    "    while n % k != 0:\n",
    "        n -= 1\n",
    "        count += 1\n",
    "    n //= k\n",
    "    count += 1\n",
    "while n>1:\n",
    "    n -= 1\n",
    "    count += 1\n",
    "print(n,count)"
   ]
  },
  {
   "cell_type": "code",
   "execution_count": 163,
   "id": "e0278232-eb08-4148-a21c-90791440bdf8",
   "metadata": {},
   "outputs": [
    {
     "name": "stdout",
     "output_type": "stream",
     "text": [
      "n // k 13\n",
      "target 26\n",
      "result 1\n",
      "result 2\n",
      "n 13\n",
      "********************\n",
      "n // k 6\n",
      "target 12\n",
      "result 3\n",
      "result 4\n",
      "n 6\n",
      "********************\n",
      "n // k 3\n",
      "target 6\n",
      "result 4\n",
      "result 5\n",
      "n 3\n",
      "********************\n",
      "n // k 1\n",
      "target 2\n",
      "result 6\n",
      "result 7\n",
      "n 1\n",
      "********************\n",
      "n // k 0\n",
      "target 0\n",
      "result 8\n",
      "8\n",
      "0\n",
      "7\n"
     ]
    }
   ],
   "source": [
    "result,n,k= 0,27,2\n",
    "while True:\n",
    "    target = (n//k) * k\n",
    "    print('n // k',n // k)\n",
    "    print('target',target)\n",
    "    result += (n-target)\n",
    "    print('result',result)\n",
    "    n = target\n",
    "    if n < k:\n",
    "        break\n",
    "    result += 1\n",
    "    n //= k\n",
    "    print('result',result)\n",
    "    print('n',n)\n",
    "    print('*'*20)\n",
    "print(result)\n",
    "print(n)\n",
    "result += (n-1)\n",
    "print(result)"
   ]
  },
  {
   "cell_type": "code",
   "execution_count": null,
   "id": "3a9a7d6b-7e80-4a23-801c-0ec9b1023d8a",
   "metadata": {},
   "outputs": [],
   "source": []
  },
  {
   "cell_type": "markdown",
   "id": "830ae6e0-be19-46f6-a6d6-cd3adfbb618d",
   "metadata": {},
   "source": [
    "-----------"
   ]
  },
  {
   "cell_type": "markdown",
   "id": "b475342d-64ef-4466-ae11-bb1ed5237152",
   "metadata": {},
   "source": [
    "# practice"
   ]
  },
  {
   "cell_type": "markdown",
   "id": "9a3dc59a-66cd-4695-adfe-e124a4ffee3e",
   "metadata": {},
   "source": [
    "# 거스름돈"
   ]
  },
  {
   "cell_type": "code",
   "execution_count": 101,
   "id": "c6eb9c59-4e26-4682-ad6d-12ba1759ead4",
   "metadata": {},
   "outputs": [],
   "source": [
    "array = [100,10,50,500]"
   ]
  },
  {
   "cell_type": "code",
   "execution_count": 102,
   "id": "eb091503-24b8-4c3c-a528-ff1fdec5fe34",
   "metadata": {},
   "outputs": [],
   "source": [
    "new_array = sorted(array,reverse=True)"
   ]
  },
  {
   "cell_type": "code",
   "execution_count": 103,
   "id": "7060b5dc-1e03-4014-a53b-682969c491e6",
   "metadata": {},
   "outputs": [
    {
     "data": {
      "text/plain": [
       "[500, 100, 50, 10]"
      ]
     },
     "execution_count": 103,
     "metadata": {},
     "output_type": "execute_result"
    }
   ],
   "source": [
    "new_array"
   ]
  },
  {
   "cell_type": "code",
   "execution_count": 104,
   "id": "5325da12-7b85-45f0-81e3-af62d64b25a7",
   "metadata": {},
   "outputs": [],
   "source": [
    "total = 1940"
   ]
  },
  {
   "cell_type": "code",
   "execution_count": 87,
   "id": "cc8dd96e-3284-42dc-a35f-525d257effc8",
   "metadata": {},
   "outputs": [
    {
     "name": "stdout",
     "output_type": "stream",
     "text": [
      "1940\n",
      "500\n",
      "3\n",
      "--------------------\n",
      "440\n",
      "500\n",
      "3\n",
      "------------------------------\n",
      "440\n",
      "100\n",
      "7\n",
      "--------------------\n",
      "40\n",
      "100\n",
      "7\n",
      "------------------------------\n",
      "40\n",
      "50\n",
      "7\n",
      "--------------------\n",
      "40\n",
      "50\n",
      "7\n",
      "------------------------------\n",
      "40\n",
      "10\n",
      "11\n",
      "--------------------\n",
      "0\n",
      "10\n",
      "11\n",
      "------------------------------\n",
      "3 11\n"
     ]
    }
   ],
   "source": [
    "result = 0\n",
    "for coin in new_array:\n",
    "    result += total//coin\n",
    "    print(total)\n",
    "    print(coin)\n",
    "    print(result)\n",
    "    print(\"-\"*20)\n",
    "    total %= coin\n",
    "    print(total)\n",
    "    print(coin)\n",
    "    print(result)\n",
    "    print(\"-\"*30)\n",
    "print(3,result)"
   ]
  },
  {
   "cell_type": "markdown",
   "id": "e661ff48-7dcc-45dc-b44f-e2c88c39464f",
   "metadata": {
    "tags": []
   },
   "source": [
    "# 큰 수의 법칙"
   ]
  },
  {
   "cell_type": "code",
   "execution_count": 89,
   "id": "8c08a1d2-b0d8-4b72-bb07-56fd927117e1",
   "metadata": {},
   "outputs": [
    {
     "name": "stdin",
     "output_type": "stream",
     "text": [
      " 5 8 3\n"
     ]
    }
   ],
   "source": [
    "n,m,k = map(int,input().split())"
   ]
  },
  {
   "cell_type": "code",
   "execution_count": 90,
   "id": "e53e61e0-a3d8-47bc-9b46-b9d8e81ea41f",
   "metadata": {},
   "outputs": [
    {
     "name": "stdin",
     "output_type": "stream",
     "text": [
      " 2,4,6,5,6\n"
     ]
    }
   ],
   "source": [
    "data = list(map(int,input().split(',')))"
   ]
  },
  {
   "cell_type": "code",
   "execution_count": 91,
   "id": "5a6c7672-f73d-4634-b7aa-251d51a16acd",
   "metadata": {},
   "outputs": [
    {
     "data": {
      "text/plain": [
       "[2, 4, 6, 5, 6]"
      ]
     },
     "execution_count": 91,
     "metadata": {},
     "output_type": "execute_result"
    }
   ],
   "source": [
    "data"
   ]
  },
  {
   "cell_type": "code",
   "execution_count": 95,
   "id": "81f8418b-86bf-4071-9089-1c05bfad229a",
   "metadata": {},
   "outputs": [
    {
     "name": "stdout",
     "output_type": "stream",
     "text": [
      "[6, 6, 5, 4, 2]\n"
     ]
    }
   ],
   "source": [
    "new_data = sorted(data,reverse= True)\n",
    "print(new_data)"
   ]
  },
  {
   "cell_type": "code",
   "execution_count": 96,
   "id": "7b980e93-6516-4dc5-a9fe-afac134fb990",
   "metadata": {},
   "outputs": [],
   "source": [
    "first = new_data[0]\n",
    "second = new_data[1]"
   ]
  },
  {
   "cell_type": "code",
   "execution_count": 97,
   "id": "c859864f-7a0f-4f29-915c-5c9c30d61dbf",
   "metadata": {},
   "outputs": [
    {
     "name": "stdout",
     "output_type": "stream",
     "text": [
      "6 6\n"
     ]
    }
   ],
   "source": [
    "print(first,second)"
   ]
  },
  {
   "cell_type": "code",
   "execution_count": 98,
   "id": "8019e3ae-2a73-452d-a26e-26da53879035",
   "metadata": {},
   "outputs": [
    {
     "name": "stdout",
     "output_type": "stream",
     "text": [
      "48\n"
     ]
    }
   ],
   "source": [
    "result = 0\n",
    "while True:\n",
    "    for i in range(k):\n",
    "        if m == 0:\n",
    "            break\n",
    "        result += first\n",
    "        m -= 1\n",
    "    if m == 0:\n",
    "        break\n",
    "    result += second\n",
    "    m -= 1\n",
    "print(result)"
   ]
  },
  {
   "cell_type": "code",
   "execution_count": 99,
   "id": "b03e5817-2157-4482-93f7-ea8fadfb66c7",
   "metadata": {},
   "outputs": [
    {
     "name": "stdout",
     "output_type": "stream",
     "text": [
      "48\n"
     ]
    }
   ],
   "source": [
    "while True:\n",
    "    for i in range(k):\n",
    "        if m == 0:\n",
    "            break\n",
    "        result += first\n",
    "        m -= 1\n",
    "    if m == 0:\n",
    "        break\n",
    "    result += second\n",
    "    m -= 1\n",
    "print(result)"
   ]
  },
  {
   "cell_type": "code",
   "execution_count": 105,
   "id": "71ae5115-eaae-4282-aaad-200bf60f2bad",
   "metadata": {},
   "outputs": [
    {
     "name": "stdout",
     "output_type": "stream",
     "text": [
      "11\n"
     ]
    }
   ],
   "source": [
    "count = 0\n",
    "for coin in new_array:\n",
    "    count += total//coin\n",
    "    total %= coin\n",
    "print(count)"
   ]
  },
  {
   "cell_type": "markdown",
   "id": "50deb0e2-88f5-44c4-9db7-cfaeae7d2a55",
   "metadata": {
    "tags": []
   },
   "source": [
    "# 숫자 카드 게임"
   ]
  },
  {
   "cell_type": "code",
   "execution_count": 123,
   "id": "8500be78-5ab4-4bc1-953a-a4981d2739cf",
   "metadata": {},
   "outputs": [
    {
     "name": "stdin",
     "output_type": "stream",
     "text": [
      " 2 4\n"
     ]
    }
   ],
   "source": [
    "n,m = map(int,input().split())"
   ]
  },
  {
   "cell_type": "code",
   "execution_count": 125,
   "id": "ead96574-912e-48fd-bee8-c89c65992c5e",
   "metadata": {},
   "outputs": [
    {
     "name": "stdin",
     "output_type": "stream",
     "text": [
      " 7 3 1 8\n",
      " 3 3 3 4\n"
     ]
    },
    {
     "name": "stdout",
     "output_type": "stream",
     "text": [
      "3\n"
     ]
    }
   ],
   "source": [
    "result = 0\n",
    "for i in range(n):\n",
    "    data = list(map(int,input().split()))\n",
    "    min_value = min(data)\n",
    "    result = max(result,min_value)\n",
    "print(result)"
   ]
  },
  {
   "cell_type": "code",
   "execution_count": 127,
   "id": "cb94a6f0-b347-42d8-a5b6-37087b10943b",
   "metadata": {},
   "outputs": [
    {
     "name": "stdin",
     "output_type": "stream",
     "text": [
      " 7 3 1 8\n",
      " 3 3 3 4\n"
     ]
    },
    {
     "name": "stdout",
     "output_type": "stream",
     "text": [
      "3\n"
     ]
    }
   ],
   "source": [
    "result = 0\n",
    "for i in range(n):\n",
    "    data = list(map(int,input().split()))\n",
    "    min_value = 10001\n",
    "    for j in data:\n",
    "        min_value = min(j,min_value)\n",
    "    result = max(min_value,result)\n",
    "print(result)"
   ]
  },
  {
   "cell_type": "code",
   "execution_count": null,
   "id": "d6eb3af7-33f9-4ceb-a56b-8dbd6c73383a",
   "metadata": {},
   "outputs": [],
   "source": []
  }
 ],
 "metadata": {
  "kernelspec": {
   "display_name": "Python 3 (ipykernel)",
   "language": "python",
   "name": "python3"
  },
  "language_info": {
   "codemirror_mode": {
    "name": "ipython",
    "version": 3
   },
   "file_extension": ".py",
   "mimetype": "text/x-python",
   "name": "python",
   "nbconvert_exporter": "python",
   "pygments_lexer": "ipython3",
   "version": "3.10.9"
  }
 },
 "nbformat": 4,
 "nbformat_minor": 5
}
