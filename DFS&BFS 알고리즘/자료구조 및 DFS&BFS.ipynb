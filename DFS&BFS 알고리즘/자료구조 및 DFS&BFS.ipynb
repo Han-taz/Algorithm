{
 "cells": [
  {
   "cell_type": "markdown",
   "id": "a01a6941-831d-48c0-90f7-291321d77296",
   "metadata": {},
   "source": [
    "# 알고리즘 "
   ]
  },
  {
   "cell_type": "code",
   "execution_count": 15,
   "id": "be25dd3b-26bd-4161-b3b4-4761ba4de994",
   "metadata": {},
   "outputs": [],
   "source": [
    "def pr(x,n):\n",
    "    if n == 0:\n",
    "        return 1\n",
    "    elif n%2 == 0:\n",
    "        return pr(x*x,n/2)"
   ]
  },
  {
   "cell_type": "code",
   "execution_count": 16,
   "id": "04ec2933-efd2-43f3-bce2-cce95a5dabb7",
   "metadata": {},
   "outputs": [
    {
     "name": "stdout",
     "output_type": "stream",
     "text": [
      "None\n"
     ]
    }
   ],
   "source": [
    "print(pr(5,4))"
   ]
  },
  {
   "cell_type": "code",
   "execution_count": 8,
   "id": "6a937992-4d5b-4a4d-99c2-dc8d2681bb5d",
   "metadata": {},
   "outputs": [],
   "source": [
    "lst = ['intra.h','intra.c','define.h','run.py']"
   ]
  },
  {
   "cell_type": "code",
   "execution_count": 9,
   "id": "f769bee7-722c-4adf-b4c8-fa87c20eca7a",
   "metadata": {},
   "outputs": [
    {
     "name": "stdout",
     "output_type": "stream",
     "text": [
      "intra.h\n",
      "intra.c\n",
      "define.h\n"
     ]
    }
   ],
   "source": [
    "for i in lst:\n",
    "    if i.endswith(('.h','.c')):\n",
    "        print(i)"
   ]
  },
  {
   "cell_type": "code",
   "execution_count": 14,
   "id": "e79db7c9-e323-40f1-99e8-b00361b30141",
   "metadata": {},
   "outputs": [
    {
     "name": "stdout",
     "output_type": "stream",
     "text": [
      "h\n",
      "h\n",
      "c\n",
      "c\n",
      "h\n",
      "h\n",
      "py\n",
      "p\n"
     ]
    }
   ],
   "source": [
    "for i in lst:\n",
    "    i = i.split('.')[1]\n",
    "    print(i)\n",
    "    if i == '.c' or '.h':\n",
    "        print(i[0])"
   ]
  },
  {
   "cell_type": "markdown",
   "id": "a97c8db6-52ce-445a-8e4e-db84db2aa643",
   "metadata": {},
   "source": [
    "# 스택"
   ]
  },
  {
   "cell_type": "code",
   "execution_count": 1,
   "id": "7b7d1a50-a53d-4a4d-817a-bb47a8e94063",
   "metadata": {},
   "outputs": [],
   "source": [
    "stack=[]"
   ]
  },
  {
   "cell_type": "code",
   "execution_count": 2,
   "id": "eb677d7d-32e2-480f-bae1-d9da49396e13",
   "metadata": {},
   "outputs": [
    {
     "data": {
      "text/plain": [
       "13"
      ]
     },
     "execution_count": 2,
     "metadata": {},
     "output_type": "execute_result"
    }
   ],
   "source": [
    "stack.append(1)\n",
    "stack.append(3)\n",
    "stack.append(5)\n",
    "stack.append(7)\n",
    "stack.pop()\n",
    "stack.append(9)\n",
    "stack.append(11)\n",
    "stack.append(13)\n",
    "stack.pop()"
   ]
  },
  {
   "cell_type": "code",
   "execution_count": 3,
   "id": "fce3c26a-1ab2-44c2-a9eb-dbbbafedf396",
   "metadata": {},
   "outputs": [
    {
     "name": "stdout",
     "output_type": "stream",
     "text": [
      "[1, 3, 5, 9, 11]\n"
     ]
    }
   ],
   "source": [
    "print(stack)"
   ]
  },
  {
   "cell_type": "code",
   "execution_count": 4,
   "id": "2156cc75-584b-4434-8351-eaf99d267bb2",
   "metadata": {},
   "outputs": [
    {
     "name": "stdout",
     "output_type": "stream",
     "text": [
      "[11, 9, 5, 3, 1]\n"
     ]
    }
   ],
   "source": [
    "print(stack[::-1])"
   ]
  },
  {
   "cell_type": "code",
   "execution_count": 14,
   "id": "a4f4d91e-581d-405c-a23e-3e2a36951190",
   "metadata": {},
   "outputs": [
    {
     "data": {
      "text/plain": [
       "[11, 9, 5, 3, 1]"
      ]
     },
     "execution_count": 14,
     "metadata": {},
     "output_type": "execute_result"
    }
   ],
   "source": [
    "stack.reverse()\n",
    "stack"
   ]
  },
  {
   "cell_type": "markdown",
   "id": "c0baf8e1-c368-48f0-a9a0-00600f3f9fb8",
   "metadata": {},
   "source": [
    "# 큐 "
   ]
  },
  {
   "cell_type": "code",
   "execution_count": 17,
   "id": "e5a2f0a1-b106-4836-933a-0337e9432837",
   "metadata": {},
   "outputs": [],
   "source": [
    "from collections import deque"
   ]
  },
  {
   "cell_type": "code",
   "execution_count": 18,
   "id": "451b7af8-8714-4247-a842-ed218a69d0e5",
   "metadata": {},
   "outputs": [],
   "source": [
    "queue = deque()"
   ]
  },
  {
   "cell_type": "code",
   "execution_count": 19,
   "id": "247ec48e-5ef4-48e6-9fb0-6e9fadce08eb",
   "metadata": {},
   "outputs": [
    {
     "name": "stdout",
     "output_type": "stream",
     "text": [
      "deque([5, 7, 8])\n",
      "deque([8, 7, 5])\n"
     ]
    }
   ],
   "source": [
    "queue.append(1)\n",
    "queue.append(5)\n",
    "queue.append(7)\n",
    "queue.popleft()\n",
    "queue.append(8)\n",
    "print(queue)\n",
    "queue.reverse()\n",
    "print(queue)"
   ]
  },
  {
   "cell_type": "markdown",
   "id": "9d030e5d-3cbd-499b-a8e0-ee23e8736b16",
   "metadata": {},
   "source": [
    "# 재귀함수"
   ]
  },
  {
   "cell_type": "markdown",
   "id": "96f97869-581c-4e69-9e87-f414ccad9fb5",
   "metadata": {},
   "source": [
    "## 자기 자신을 무한반복 호출한다."
   ]
  },
  {
   "cell_type": "code",
   "execution_count": null,
   "id": "d993d0a0-0ea6-439a-b059-279d17957b8f",
   "metadata": {},
   "outputs": [],
   "source": [
    "def recursive_func():\n",
    "    print('재귀함수를 호출합니다')\n",
    "    recursive_func()\n",
    "recursive_func()"
   ]
  },
  {
   "cell_type": "markdown",
   "id": "164a6f7e-cf23-438d-80b3-94b8df421df5",
   "metadata": {},
   "source": [
    "### 재귀함수 종료조건"
   ]
  },
  {
   "cell_type": "code",
   "execution_count": 1,
   "id": "58f53367-b0ac-4356-83cf-edea0f99dde8",
   "metadata": {},
   "outputs": [],
   "source": [
    "def recursive_func(i):\n",
    "    #100번째 출력했을 때 종료되도록 조건 명시\n",
    "    if i == 100:\n",
    "        return\n",
    "    print(f'{i}번째 재귀함수에서 {i+1}번째 재귀함수를 호출합니다')\n",
    "    recursive_func(i+1)\n",
    "    print(f'{i}번째 재귀함수를 종료합니다')"
   ]
  },
  {
   "cell_type": "code",
   "execution_count": 2,
   "id": "bca11401-caf4-466d-a86c-d21adbcf90e4",
   "metadata": {},
   "outputs": [
    {
     "name": "stdout",
     "output_type": "stream",
     "text": [
      "1번째 재귀함수에서 2번째 재귀함수를 호출합니다\n",
      "2번째 재귀함수에서 3번째 재귀함수를 호출합니다\n",
      "3번째 재귀함수에서 4번째 재귀함수를 호출합니다\n",
      "4번째 재귀함수에서 5번째 재귀함수를 호출합니다\n",
      "5번째 재귀함수에서 6번째 재귀함수를 호출합니다\n",
      "6번째 재귀함수에서 7번째 재귀함수를 호출합니다\n",
      "7번째 재귀함수에서 8번째 재귀함수를 호출합니다\n",
      "8번째 재귀함수에서 9번째 재귀함수를 호출합니다\n",
      "9번째 재귀함수에서 10번째 재귀함수를 호출합니다\n",
      "10번째 재귀함수에서 11번째 재귀함수를 호출합니다\n",
      "11번째 재귀함수에서 12번째 재귀함수를 호출합니다\n",
      "12번째 재귀함수에서 13번째 재귀함수를 호출합니다\n",
      "13번째 재귀함수에서 14번째 재귀함수를 호출합니다\n",
      "14번째 재귀함수에서 15번째 재귀함수를 호출합니다\n",
      "15번째 재귀함수에서 16번째 재귀함수를 호출합니다\n",
      "16번째 재귀함수에서 17번째 재귀함수를 호출합니다\n",
      "17번째 재귀함수에서 18번째 재귀함수를 호출합니다\n",
      "18번째 재귀함수에서 19번째 재귀함수를 호출합니다\n",
      "19번째 재귀함수에서 20번째 재귀함수를 호출합니다\n",
      "20번째 재귀함수에서 21번째 재귀함수를 호출합니다\n",
      "21번째 재귀함수에서 22번째 재귀함수를 호출합니다\n",
      "22번째 재귀함수에서 23번째 재귀함수를 호출합니다\n",
      "23번째 재귀함수에서 24번째 재귀함수를 호출합니다\n",
      "24번째 재귀함수에서 25번째 재귀함수를 호출합니다\n",
      "25번째 재귀함수에서 26번째 재귀함수를 호출합니다\n",
      "26번째 재귀함수에서 27번째 재귀함수를 호출합니다\n",
      "27번째 재귀함수에서 28번째 재귀함수를 호출합니다\n",
      "28번째 재귀함수에서 29번째 재귀함수를 호출합니다\n",
      "29번째 재귀함수에서 30번째 재귀함수를 호출합니다\n",
      "30번째 재귀함수에서 31번째 재귀함수를 호출합니다\n",
      "31번째 재귀함수에서 32번째 재귀함수를 호출합니다\n",
      "32번째 재귀함수에서 33번째 재귀함수를 호출합니다\n",
      "33번째 재귀함수에서 34번째 재귀함수를 호출합니다\n",
      "34번째 재귀함수에서 35번째 재귀함수를 호출합니다\n",
      "35번째 재귀함수에서 36번째 재귀함수를 호출합니다\n",
      "36번째 재귀함수에서 37번째 재귀함수를 호출합니다\n",
      "37번째 재귀함수에서 38번째 재귀함수를 호출합니다\n",
      "38번째 재귀함수에서 39번째 재귀함수를 호출합니다\n",
      "39번째 재귀함수에서 40번째 재귀함수를 호출합니다\n",
      "40번째 재귀함수에서 41번째 재귀함수를 호출합니다\n",
      "41번째 재귀함수에서 42번째 재귀함수를 호출합니다\n",
      "42번째 재귀함수에서 43번째 재귀함수를 호출합니다\n",
      "43번째 재귀함수에서 44번째 재귀함수를 호출합니다\n",
      "44번째 재귀함수에서 45번째 재귀함수를 호출합니다\n",
      "45번째 재귀함수에서 46번째 재귀함수를 호출합니다\n",
      "46번째 재귀함수에서 47번째 재귀함수를 호출합니다\n",
      "47번째 재귀함수에서 48번째 재귀함수를 호출합니다\n",
      "48번째 재귀함수에서 49번째 재귀함수를 호출합니다\n",
      "49번째 재귀함수에서 50번째 재귀함수를 호출합니다\n",
      "50번째 재귀함수에서 51번째 재귀함수를 호출합니다\n",
      "51번째 재귀함수에서 52번째 재귀함수를 호출합니다\n",
      "52번째 재귀함수에서 53번째 재귀함수를 호출합니다\n",
      "53번째 재귀함수에서 54번째 재귀함수를 호출합니다\n",
      "54번째 재귀함수에서 55번째 재귀함수를 호출합니다\n",
      "55번째 재귀함수에서 56번째 재귀함수를 호출합니다\n",
      "56번째 재귀함수에서 57번째 재귀함수를 호출합니다\n",
      "57번째 재귀함수에서 58번째 재귀함수를 호출합니다\n",
      "58번째 재귀함수에서 59번째 재귀함수를 호출합니다\n",
      "59번째 재귀함수에서 60번째 재귀함수를 호출합니다\n",
      "60번째 재귀함수에서 61번째 재귀함수를 호출합니다\n",
      "61번째 재귀함수에서 62번째 재귀함수를 호출합니다\n",
      "62번째 재귀함수에서 63번째 재귀함수를 호출합니다\n",
      "63번째 재귀함수에서 64번째 재귀함수를 호출합니다\n",
      "64번째 재귀함수에서 65번째 재귀함수를 호출합니다\n",
      "65번째 재귀함수에서 66번째 재귀함수를 호출합니다\n",
      "66번째 재귀함수에서 67번째 재귀함수를 호출합니다\n",
      "67번째 재귀함수에서 68번째 재귀함수를 호출합니다\n",
      "68번째 재귀함수에서 69번째 재귀함수를 호출합니다\n",
      "69번째 재귀함수에서 70번째 재귀함수를 호출합니다\n",
      "70번째 재귀함수에서 71번째 재귀함수를 호출합니다\n",
      "71번째 재귀함수에서 72번째 재귀함수를 호출합니다\n",
      "72번째 재귀함수에서 73번째 재귀함수를 호출합니다\n",
      "73번째 재귀함수에서 74번째 재귀함수를 호출합니다\n",
      "74번째 재귀함수에서 75번째 재귀함수를 호출합니다\n",
      "75번째 재귀함수에서 76번째 재귀함수를 호출합니다\n",
      "76번째 재귀함수에서 77번째 재귀함수를 호출합니다\n",
      "77번째 재귀함수에서 78번째 재귀함수를 호출합니다\n",
      "78번째 재귀함수에서 79번째 재귀함수를 호출합니다\n",
      "79번째 재귀함수에서 80번째 재귀함수를 호출합니다\n",
      "80번째 재귀함수에서 81번째 재귀함수를 호출합니다\n",
      "81번째 재귀함수에서 82번째 재귀함수를 호출합니다\n",
      "82번째 재귀함수에서 83번째 재귀함수를 호출합니다\n",
      "83번째 재귀함수에서 84번째 재귀함수를 호출합니다\n",
      "84번째 재귀함수에서 85번째 재귀함수를 호출합니다\n",
      "85번째 재귀함수에서 86번째 재귀함수를 호출합니다\n",
      "86번째 재귀함수에서 87번째 재귀함수를 호출합니다\n",
      "87번째 재귀함수에서 88번째 재귀함수를 호출합니다\n",
      "88번째 재귀함수에서 89번째 재귀함수를 호출합니다\n",
      "89번째 재귀함수에서 90번째 재귀함수를 호출합니다\n",
      "90번째 재귀함수에서 91번째 재귀함수를 호출합니다\n",
      "91번째 재귀함수에서 92번째 재귀함수를 호출합니다\n",
      "92번째 재귀함수에서 93번째 재귀함수를 호출합니다\n",
      "93번째 재귀함수에서 94번째 재귀함수를 호출합니다\n",
      "94번째 재귀함수에서 95번째 재귀함수를 호출합니다\n",
      "95번째 재귀함수에서 96번째 재귀함수를 호출합니다\n",
      "96번째 재귀함수에서 97번째 재귀함수를 호출합니다\n",
      "97번째 재귀함수에서 98번째 재귀함수를 호출합니다\n",
      "98번째 재귀함수에서 99번째 재귀함수를 호출합니다\n",
      "99번째 재귀함수에서 100번째 재귀함수를 호출합니다\n",
      "99번째 재귀함수를 종료합니다\n",
      "98번째 재귀함수를 종료합니다\n",
      "97번째 재귀함수를 종료합니다\n",
      "96번째 재귀함수를 종료합니다\n",
      "95번째 재귀함수를 종료합니다\n",
      "94번째 재귀함수를 종료합니다\n",
      "93번째 재귀함수를 종료합니다\n",
      "92번째 재귀함수를 종료합니다\n",
      "91번째 재귀함수를 종료합니다\n",
      "90번째 재귀함수를 종료합니다\n",
      "89번째 재귀함수를 종료합니다\n",
      "88번째 재귀함수를 종료합니다\n",
      "87번째 재귀함수를 종료합니다\n",
      "86번째 재귀함수를 종료합니다\n",
      "85번째 재귀함수를 종료합니다\n",
      "84번째 재귀함수를 종료합니다\n",
      "83번째 재귀함수를 종료합니다\n",
      "82번째 재귀함수를 종료합니다\n",
      "81번째 재귀함수를 종료합니다\n",
      "80번째 재귀함수를 종료합니다\n",
      "79번째 재귀함수를 종료합니다\n",
      "78번째 재귀함수를 종료합니다\n",
      "77번째 재귀함수를 종료합니다\n",
      "76번째 재귀함수를 종료합니다\n",
      "75번째 재귀함수를 종료합니다\n",
      "74번째 재귀함수를 종료합니다\n",
      "73번째 재귀함수를 종료합니다\n",
      "72번째 재귀함수를 종료합니다\n",
      "71번째 재귀함수를 종료합니다\n",
      "70번째 재귀함수를 종료합니다\n",
      "69번째 재귀함수를 종료합니다\n",
      "68번째 재귀함수를 종료합니다\n",
      "67번째 재귀함수를 종료합니다\n",
      "66번째 재귀함수를 종료합니다\n",
      "65번째 재귀함수를 종료합니다\n",
      "64번째 재귀함수를 종료합니다\n",
      "63번째 재귀함수를 종료합니다\n",
      "62번째 재귀함수를 종료합니다\n",
      "61번째 재귀함수를 종료합니다\n",
      "60번째 재귀함수를 종료합니다\n",
      "59번째 재귀함수를 종료합니다\n",
      "58번째 재귀함수를 종료합니다\n",
      "57번째 재귀함수를 종료합니다\n",
      "56번째 재귀함수를 종료합니다\n",
      "55번째 재귀함수를 종료합니다\n",
      "54번째 재귀함수를 종료합니다\n",
      "53번째 재귀함수를 종료합니다\n",
      "52번째 재귀함수를 종료합니다\n",
      "51번째 재귀함수를 종료합니다\n",
      "50번째 재귀함수를 종료합니다\n",
      "49번째 재귀함수를 종료합니다\n",
      "48번째 재귀함수를 종료합니다\n",
      "47번째 재귀함수를 종료합니다\n",
      "46번째 재귀함수를 종료합니다\n",
      "45번째 재귀함수를 종료합니다\n",
      "44번째 재귀함수를 종료합니다\n",
      "43번째 재귀함수를 종료합니다\n",
      "42번째 재귀함수를 종료합니다\n",
      "41번째 재귀함수를 종료합니다\n",
      "40번째 재귀함수를 종료합니다\n",
      "39번째 재귀함수를 종료합니다\n",
      "38번째 재귀함수를 종료합니다\n",
      "37번째 재귀함수를 종료합니다\n",
      "36번째 재귀함수를 종료합니다\n",
      "35번째 재귀함수를 종료합니다\n",
      "34번째 재귀함수를 종료합니다\n",
      "33번째 재귀함수를 종료합니다\n",
      "32번째 재귀함수를 종료합니다\n",
      "31번째 재귀함수를 종료합니다\n",
      "30번째 재귀함수를 종료합니다\n",
      "29번째 재귀함수를 종료합니다\n",
      "28번째 재귀함수를 종료합니다\n",
      "27번째 재귀함수를 종료합니다\n",
      "26번째 재귀함수를 종료합니다\n",
      "25번째 재귀함수를 종료합니다\n",
      "24번째 재귀함수를 종료합니다\n",
      "23번째 재귀함수를 종료합니다\n",
      "22번째 재귀함수를 종료합니다\n",
      "21번째 재귀함수를 종료합니다\n",
      "20번째 재귀함수를 종료합니다\n",
      "19번째 재귀함수를 종료합니다\n",
      "18번째 재귀함수를 종료합니다\n",
      "17번째 재귀함수를 종료합니다\n",
      "16번째 재귀함수를 종료합니다\n",
      "15번째 재귀함수를 종료합니다\n",
      "14번째 재귀함수를 종료합니다\n",
      "13번째 재귀함수를 종료합니다\n",
      "12번째 재귀함수를 종료합니다\n",
      "11번째 재귀함수를 종료합니다\n",
      "10번째 재귀함수를 종료합니다\n",
      "9번째 재귀함수를 종료합니다\n",
      "8번째 재귀함수를 종료합니다\n",
      "7번째 재귀함수를 종료합니다\n",
      "6번째 재귀함수를 종료합니다\n",
      "5번째 재귀함수를 종료합니다\n",
      "4번째 재귀함수를 종료합니다\n",
      "3번째 재귀함수를 종료합니다\n",
      "2번째 재귀함수를 종료합니다\n",
      "1번째 재귀함수를 종료합니다\n"
     ]
    }
   ],
   "source": [
    "recursive_func(1)"
   ]
  },
  {
   "cell_type": "markdown",
   "id": "b260b3e8-f49f-4796-b615-9b54dbcd4470",
   "metadata": {},
   "source": [
    "# 팩토리얼(!) "
   ]
  },
  {
   "cell_type": "markdown",
   "id": "251916fd-5116-4cc0-81da-dbb869df86de",
   "metadata": {},
   "source": [
    "### 반복적으로 구현"
   ]
  },
  {
   "cell_type": "code",
   "execution_count": 3,
   "id": "18b85919-612f-45c0-89f8-89aa3ec5d315",
   "metadata": {},
   "outputs": [],
   "source": [
    "def factorial_iterative(n):\n",
    "    result = 1\n",
    "    #1부터 n까지 수를 차레대로 곱하기\n",
    "    for i in range(1,n+1):\n",
    "        result *= i\n",
    "    return result"
   ]
  },
  {
   "cell_type": "markdown",
   "id": "dfa7790f-199f-4d77-9448-010c6bb24bc7",
   "metadata": {},
   "source": [
    "### 재귀적으로 구현"
   ]
  },
  {
   "cell_type": "code",
   "execution_count": 4,
   "id": "3a859f9e-15aa-44e8-942a-f188f573164e",
   "metadata": {},
   "outputs": [],
   "source": [
    "def factorial_recursive(n):\n",
    "    if n <= 1:\n",
    "        return 1\n",
    "    #n! = n*(n-1)\n",
    "    return n * factorial_recursive(n-1) "
   ]
  },
  {
   "cell_type": "code",
   "execution_count": 5,
   "id": "8431d3da-ead9-435e-af95-132d920faab5",
   "metadata": {},
   "outputs": [
    {
     "name": "stdout",
     "output_type": "stream",
     "text": [
      "120\n",
      "120\n"
     ]
    }
   ],
   "source": [
    "print(factorial_iterative(5))\n",
    "print(factorial_recursive(5))"
   ]
  },
  {
   "cell_type": "markdown",
   "id": "49eb3f1a-e95f-46c4-945d-03737d6ba3bc",
   "metadata": {},
   "source": [
    "### 혼자 해보기 print(n) 확인하며 이해하기"
   ]
  },
  {
   "cell_type": "code",
   "execution_count": 19,
   "id": "cb18113c-172d-45b6-8a55-2cc8d61c328b",
   "metadata": {},
   "outputs": [],
   "source": [
    "def factorial_recursive1(n):\n",
    "    if n <= 1:\n",
    "        return 1\n",
    "    #n! = n*(n-1)\n",
    "    print(n)\n",
    "    return factorial_recursive1(n-1) "
   ]
  },
  {
   "cell_type": "code",
   "execution_count": 20,
   "id": "c882dfc4-d12f-4fc7-8575-eb43abc59b24",
   "metadata": {},
   "outputs": [
    {
     "name": "stdout",
     "output_type": "stream",
     "text": [
      "5\n",
      "4\n",
      "3\n",
      "2\n"
     ]
    },
    {
     "data": {
      "text/plain": [
       "1"
      ]
     },
     "execution_count": 20,
     "metadata": {},
     "output_type": "execute_result"
    }
   ],
   "source": [
    "factorial_recursive1(5)"
   ]
  },
  {
   "cell_type": "markdown",
   "id": "0a9480d2-304a-433d-bd26-6aba9741609e",
   "metadata": {},
   "source": [
    "# 유클리드 호제법(최대공약수[gcd])"
   ]
  },
  {
   "cell_type": "markdown",
   "id": "fe5a491c-dc99-4e9b-b61a-1cdb28dfba02",
   "metadata": {},
   "source": [
    "- 두 자연수 A,B에 대하여(A > B) A를 B로 나눈 나머지를 R이라고 할 때\n",
    "- 이때 A와 B의 최대공약수는 B와 R의 최대공약수와 같다"
   ]
  },
  {
   "cell_type": "markdown",
   "id": "eb647021-67be-4d8b-9bfd-66a9e63f77b2",
   "metadata": {
    "jp-MarkdownHeadingCollapsed": true,
    "tags": []
   },
   "source": [
    "## 확인해보기"
   ]
  },
  {
   "cell_type": "code",
   "execution_count": 21,
   "id": "cf3c2e41-b2ce-44f3-ba4a-c15e70217280",
   "metadata": {},
   "outputs": [],
   "source": [
    "import math"
   ]
  },
  {
   "cell_type": "code",
   "execution_count": 22,
   "id": "82eac6cc-49d3-4758-b0b6-205b04a8ab01",
   "metadata": {},
   "outputs": [
    {
     "data": {
      "text/plain": [
       "6"
      ]
     },
     "execution_count": 22,
     "metadata": {},
     "output_type": "execute_result"
    }
   ],
   "source": [
    "math.gcd(192,162)"
   ]
  },
  {
   "cell_type": "code",
   "execution_count": 23,
   "id": "25e9b7eb-c42d-4215-8ba4-c1ad6fb52696",
   "metadata": {},
   "outputs": [],
   "source": [
    "a= 192\n",
    "b= 162"
   ]
  },
  {
   "cell_type": "code",
   "execution_count": 33,
   "id": "afc45a12-84ef-47be-8b24-eaf7a1b85ab4",
   "metadata": {},
   "outputs": [
    {
     "data": {
      "text/plain": [
       "30"
      ]
     },
     "execution_count": 33,
     "metadata": {},
     "output_type": "execute_result"
    }
   ],
   "source": [
    "r= a%b\n",
    "r"
   ]
  },
  {
   "cell_type": "code",
   "execution_count": 27,
   "id": "d473753a-5665-4e9c-94b3-cdb0096569e4",
   "metadata": {},
   "outputs": [
    {
     "data": {
      "text/plain": [
       "6"
      ]
     },
     "execution_count": 27,
     "metadata": {},
     "output_type": "execute_result"
    }
   ],
   "source": [
    "math.gcd(a,r)"
   ]
  },
  {
   "cell_type": "code",
   "execution_count": 30,
   "id": "a4379e7d-4414-466e-8dfc-6ae82288b48d",
   "metadata": {},
   "outputs": [
    {
     "name": "stdout",
     "output_type": "stream",
     "text": [
      "6\n",
      "6\n"
     ]
    }
   ],
   "source": [
    "print(math.gcd(192,162))\n",
    "print(math.gcd(b,r))"
   ]
  },
  {
   "cell_type": "code",
   "execution_count": 31,
   "id": "d6e929b6-dce5-43f7-8873-c68d26b5ca66",
   "metadata": {},
   "outputs": [],
   "source": [
    "a2=b%r"
   ]
  },
  {
   "cell_type": "code",
   "execution_count": 32,
   "id": "01bd3a11-d413-40af-a90d-2c5fefe36362",
   "metadata": {},
   "outputs": [
    {
     "data": {
      "text/plain": [
       "12"
      ]
     },
     "execution_count": 32,
     "metadata": {},
     "output_type": "execute_result"
    }
   ],
   "source": [
    "a2"
   ]
  },
  {
   "cell_type": "code",
   "execution_count": 34,
   "id": "2bff1f01-8a7b-4d1d-a048-3b17434387ea",
   "metadata": {},
   "outputs": [
    {
     "data": {
      "text/plain": [
       "6"
      ]
     },
     "execution_count": 34,
     "metadata": {},
     "output_type": "execute_result"
    }
   ],
   "source": [
    "math.gcd(b,a2)"
   ]
  },
  {
   "cell_type": "code",
   "execution_count": 35,
   "id": "4fa31efb-7bc4-4915-88af-bab92b318a4e",
   "metadata": {},
   "outputs": [
    {
     "data": {
      "text/plain": [
       "6"
      ]
     },
     "execution_count": 35,
     "metadata": {},
     "output_type": "execute_result"
    }
   ],
   "source": [
    "a3= r%a2\n",
    "a3"
   ]
  },
  {
   "cell_type": "code",
   "execution_count": 36,
   "id": "36fe543e-d458-4cd3-8db7-314730811889",
   "metadata": {},
   "outputs": [
    {
     "data": {
      "text/plain": [
       "6"
      ]
     },
     "execution_count": 36,
     "metadata": {},
     "output_type": "execute_result"
    }
   ],
   "source": [
    "math.gcd(a2,a3)"
   ]
  },
  {
   "cell_type": "markdown",
   "id": "2ede4411-47ab-44a1-95b3-ac66c79e75e6",
   "metadata": {},
   "source": [
    "## 함수 예제"
   ]
  },
  {
   "cell_type": "code",
   "execution_count": 66,
   "id": "aa8afe84-0a01-468d-a12c-da1625bc1d8a",
   "metadata": {},
   "outputs": [],
   "source": [
    "n=0\n",
    "def gcd(a,b):\n",
    "    if a%b == 0:\n",
    "        print('최종A: ',a)\n",
    "        print('최종B: ',b)\n",
    "        return b\n",
    "    else:\n",
    "        print('과정A: ',a)\n",
    "        print('과정B: ',b)\n",
    "        print('*'*20)\n",
    "        return gcd(b,a % b)"
   ]
  },
  {
   "cell_type": "code",
   "execution_count": 67,
   "id": "39402087-a157-4e28-a671-e8b6def935d2",
   "metadata": {},
   "outputs": [
    {
     "name": "stdout",
     "output_type": "stream",
     "text": [
      "과정A:  192\n",
      "과정B:  162\n",
      "********************\n",
      "과정A:  162\n",
      "과정B:  30\n",
      "********************\n",
      "과정A:  30\n",
      "과정B:  12\n",
      "********************\n",
      "최종A:  12\n",
      "최종B:  6\n",
      "6\n"
     ]
    }
   ],
   "source": [
    "print(gcd(192,162))"
   ]
  },
  {
   "cell_type": "markdown",
   "id": "1ef55971-6fbf-43fc-a89d-cad79b89e436",
   "metadata": {},
   "source": [
    "# DFS(Depth-First Search) "
   ]
  },
  {
   "cell_type": "markdown",
   "id": "f782f35b-65bb-48ed-8b7c-c6cf9760b153",
   "metadata": {},
   "source": [
    "- DFS는 그래프에서 깊은 부분을 우선적으로 탐색하는 알고리즘입니다.\n",
    "- DFS는 스택 자료구조(혹은 재귀 함수)를 이용하며, 구체적인 동작 과정은 다음과 같습니다.\n",
    "1. 탐색 시작 노드를 스택에 삽입하고 방문 처리를 합니다.\n",
    "2. 스택의 최상단 노드에 방문하지 않은 인접한 노드가 하나라도 있으면 그 노드를 스택에 넣고 방문처리합니다. 방문하지 않은 인접노드가 없으면 스택에서 최상단 노드를 꺼냅니다.\n",
    "3. 더 이상 2번의 과정을 수행할 수 없을 때까지 반복합니다."
   ]
  },
  {
   "cell_type": "markdown",
   "id": "554dc24a-245c-4e43-ac90-892bc0046b76",
   "metadata": {},
   "source": [
    "#### 인접행렬방식"
   ]
  },
  {
   "cell_type": "code",
   "execution_count": 72,
   "id": "4d028fac-f0f8-44d2-b89c-4b467d685b27",
   "metadata": {},
   "outputs": [],
   "source": [
    "INF =9999999"
   ]
  },
  {
   "cell_type": "code",
   "execution_count": 73,
   "id": "33866e72-0980-4268-b9e7-901ae03101e0",
   "metadata": {},
   "outputs": [],
   "source": [
    "graph =[\n",
    "    [0,7,5],\n",
    "    [7,0,INF],\n",
    "    [5,INF,0]\n",
    "]"
   ]
  },
  {
   "cell_type": "code",
   "execution_count": 74,
   "id": "423cbebf-e045-42d3-b218-a05f81d9486f",
   "metadata": {},
   "outputs": [
    {
     "data": {
      "text/plain": [
       "[[0, 7, 5], [7, 0, 9999999], [5, 9999999, 0]]"
      ]
     },
     "execution_count": 74,
     "metadata": {},
     "output_type": "execute_result"
    }
   ],
   "source": [
    "graph"
   ]
  },
  {
   "cell_type": "markdown",
   "id": "c516fe97-b6e4-4392-85c5-04ac40a04b9d",
   "metadata": {},
   "source": [
    "#### 인접리스트방식"
   ]
  },
  {
   "cell_type": "code",
   "execution_count": 75,
   "id": "c6b71ce5-d312-44f8-b564-2c02cf3fb332",
   "metadata": {},
   "outputs": [],
   "source": [
    "graph= [[] for _ in range(3)]"
   ]
  },
  {
   "cell_type": "code",
   "execution_count": 76,
   "id": "7c88cf95-98a2-4e9c-a9bf-cac9dd167e61",
   "metadata": {},
   "outputs": [
    {
     "data": {
      "text/plain": [
       "[[], [], []]"
      ]
     },
     "execution_count": 76,
     "metadata": {},
     "output_type": "execute_result"
    }
   ],
   "source": [
    "graph"
   ]
  },
  {
   "cell_type": "code",
   "execution_count": 77,
   "id": "3570ad0d-74da-475b-b7c7-bfbdffe3ed63",
   "metadata": {},
   "outputs": [],
   "source": [
    "graph[0].append((1,7))\n",
    "graph[0].append((2,5))\n",
    "graph[1].append((0,7))\n",
    "graph[2].append((0,5))"
   ]
  },
  {
   "cell_type": "code",
   "execution_count": 78,
   "id": "e025ef52-ed52-4493-b788-f7ab1488f12c",
   "metadata": {},
   "outputs": [
    {
     "data": {
      "text/plain": [
       "[[(1, 7), (2, 5)], [(0, 7)], [(0, 5)]]"
      ]
     },
     "execution_count": 78,
     "metadata": {},
     "output_type": "execute_result"
    }
   ],
   "source": [
    "graph"
   ]
  },
  {
   "cell_type": "markdown",
   "id": "017647bb-d5ca-4bbc-ac08-7794df9cbc3d",
   "metadata": {},
   "source": [
    "### DFS 예제"
   ]
  },
  {
   "cell_type": "code",
   "execution_count": 79,
   "id": "91813434-7265-4b78-b7b3-dbfe546e28e3",
   "metadata": {},
   "outputs": [],
   "source": [
    "def dfs(graph,v,visited):\n",
    "    #현재 노드를 방문 처리\n",
    "    visited[v]=True\n",
    "    print(v,end=' ')\n",
    "    #현재 노드와 연결된 다른 노드를 재귀적으로 방문\n",
    "    for i in graph[v]:\n",
    "        if not visited[i]:\n",
    "            dfs(graph,i,visited)"
   ]
  },
  {
   "cell_type": "code",
   "execution_count": 91,
   "id": "ac39c6e2-bdf3-4577-876b-befdcf616aba",
   "metadata": {},
   "outputs": [],
   "source": [
    "#각 노드가 연결된 정보를 표현 (2차원 리스트)\n",
    "graph=[\n",
    "    [],#0번 우리는 1번부터 사용하므로 0은 빈 리스트로 둔다\n",
    "    [2,3,8],#1번 노드에 인접한 숫자들\n",
    "    [1,7],#2번 노드에 인접한 숫자들\n",
    "    [1,4,5],#3번 노드에 인접한 숫자들\n",
    "    [3,5],#4번 노드에 인접한 숫자들\n",
    "    [3,4],#5번 노드에 인접한 숫자들\n",
    "    [7],#6번 노드에 인접한 숫자들\n",
    "    [2,6,8],#7번 노드에 인접한 숫자들\n",
    "    [1,7]#8번 노드에 인접한 숫자들\n",
    "]"
   ]
  },
  {
   "cell_type": "code",
   "execution_count": 92,
   "id": "60fcd72f-9513-43af-b6b0-6aee61bcfb83",
   "metadata": {},
   "outputs": [
    {
     "data": {
      "text/plain": [
       "[False, False, False, False, False, False, False, False, False]"
      ]
     },
     "execution_count": 92,
     "metadata": {},
     "output_type": "execute_result"
    }
   ],
   "source": [
    "# 각 노드가 방문된 정보를 표현(1차원 리스트)\n",
    "# 1~8번노드가 있지만 graph에는 0번부터 시작하므로 노드+1값인 9\n",
    "visited = [False]*9\n",
    "visited"
   ]
  },
  {
   "cell_type": "code",
   "execution_count": 93,
   "id": "d6502f3e-ae25-4254-8def-97a00c27ad31",
   "metadata": {},
   "outputs": [
    {
     "name": "stdout",
     "output_type": "stream",
     "text": [
      "1 2 7 6 8 3 4 5 "
     ]
    }
   ],
   "source": [
    "dfs(graph,1,visited)"
   ]
  },
  {
   "cell_type": "markdown",
   "id": "85603fbf-f958-472f-9c7a-fb5da955dd65",
   "metadata": {
    "tags": []
   },
   "source": [
    "#### 혼자 하나씩 찍어본 것"
   ]
  },
  {
   "cell_type": "markdown",
   "id": "6aa6cd1d-d01c-4252-930b-15e705462a37",
   "metadata": {},
   "source": [
    "- if not [True,False]"
   ]
  },
  {
   "cell_type": "code",
   "execution_count": 86,
   "id": "fdab75b1-3143-40f2-ab38-6a55bed09702",
   "metadata": {},
   "outputs": [
    {
     "name": "stdout",
     "output_type": "stream",
     "text": [
      "True\n"
     ]
    }
   ],
   "source": [
    "if visited[0]:\n",
    "    print('False')\n",
    "else:\n",
    "    print('True')"
   ]
  },
  {
   "cell_type": "markdown",
   "id": "d6658e9e-a132-4dd2-a80d-e55815f58b28",
   "metadata": {},
   "source": [
    "# BFS(Breadth-First Search)\n",
    "- BFS는 그래프에서 가까운 노드부터 우선적으로 탐색하는 알고리즘입니다.\n",
    "- BFS는 큐 자료구조를 이용하며, 구체적인 동작 과정은 다음과 같습니다.\n",
    "1. 탐색 시작 노드를 큐에 삽입하고 방문 처리를 합니다.\n",
    "2. 큐에서 노드를 꺼낸 뒤에 해당 노드의 인접 노드 중에서 방문하지 않은 노드를 모두 큐에 삽입하고 방문처리합니다.\n",
    "3. 더 이상 2번의 과정을 수행할 수 없을 때까지 반복합니다."
   ]
  },
  {
   "cell_type": "code",
   "execution_count": 89,
   "id": "d88f3129-636d-41c4-a17b-4f63e3ef897d",
   "metadata": {},
   "outputs": [],
   "source": [
    "from collections import deque"
   ]
  },
  {
   "cell_type": "code",
   "execution_count": 90,
   "id": "fc6ebad7-d807-4c12-aa0b-56ef1d309a63",
   "metadata": {},
   "outputs": [],
   "source": [
    "def bfs(graph,start,visited):\n",
    "    #큐 구현을 위해 deque라이브러리 사용\n",
    "    queue = deque([start])\n",
    "    #현재 노드를 방문 처리\n",
    "    visited[start] = True\n",
    "    #큐가 빌 때까지 반복\n",
    "    while queue:\n",
    "        #큐에서 하나의 원소를 뽑아 출력하기\n",
    "        v = queue.popleft()\n",
    "        print(v,end=' ')\n",
    "        #아직 방문하지 않은 인접한 원소들을 큐에 삽입\n",
    "        for i in graph[v]:\n",
    "            if not visited[i]:\n",
    "                queue.append(i)\n",
    "                visited[i]=True"
   ]
  },
  {
   "cell_type": "code",
   "execution_count": 94,
   "id": "d36ba2cf-7aa7-4c2b-995f-5c0412fd4d23",
   "metadata": {},
   "outputs": [],
   "source": [
    "#각 노드가 연결된 정보를 표현 (2차원 리스트)\n",
    "graph=[\n",
    "    [],#0번 우리는 1번부터 사용하므로 0은 빈 리스트로 둔다\n",
    "    [2,3,8],#1번 노드에 인접한 숫자들\n",
    "    [1,7],#2번 노드에 인접한 숫자들\n",
    "    [1,4,5],#3번 노드에 인접한 숫자들\n",
    "    [3,5],#4번 노드에 인접한 숫자들\n",
    "    [3,4],#5번 노드에 인접한 숫자들\n",
    "    [7],#6번 노드에 인접한 숫자들\n",
    "    [2,6,8],#7번 노드에 인접한 숫자들\n",
    "    [1,7]#8번 노드에 인접한 숫자들\n",
    "]"
   ]
  },
  {
   "cell_type": "code",
   "execution_count": 95,
   "id": "4644a82b-92c0-4b28-9ace-a2fe9366c133",
   "metadata": {},
   "outputs": [],
   "source": [
    "visited = [False]*9"
   ]
  },
  {
   "cell_type": "code",
   "execution_count": 96,
   "id": "d17f52d1-666a-426f-a401-05d7e115953c",
   "metadata": {},
   "outputs": [
    {
     "name": "stdout",
     "output_type": "stream",
     "text": [
      "1 2 3 8 7 4 5 6 "
     ]
    }
   ],
   "source": [
    "bfs(graph,1,visited)"
   ]
  },
  {
   "cell_type": "markdown",
   "id": "0e79628b-b1de-4791-9bd4-11fb3ee52639",
   "metadata": {},
   "source": [
    "# 음료수 얼려 먹기"
   ]
  },
  {
   "cell_type": "code",
   "execution_count": 101,
   "id": "03cba157-d3f7-4157-b864-0b2ad76233a0",
   "metadata": {},
   "outputs": [
    {
     "name": "stdin",
     "output_type": "stream",
     "text": [
      " 4 5\n"
     ]
    }
   ],
   "source": [
    "n,m = map(int,input().split())"
   ]
  },
  {
   "cell_type": "code",
   "execution_count": 106,
   "id": "34659ac8-b339-4ac5-b0f5-225a9bc36914",
   "metadata": {},
   "outputs": [
    {
     "name": "stdin",
     "output_type": "stream",
     "text": [
      " 0 0 1 1 0\n",
      " 0 0 0 1 1\n",
      " 1 1 1 1 1\n",
      " 0 0 0 0 0\n"
     ]
    }
   ],
   "source": [
    "graph = []\n",
    "for i in range(n):\n",
    "    graph.append(list(map(int,input().split())))"
   ]
  },
  {
   "cell_type": "code",
   "execution_count": 107,
   "id": "339ed77b-f3ab-4016-b9d0-8e9ecd483966",
   "metadata": {},
   "outputs": [
    {
     "data": {
      "text/plain": [
       "[[0, 0, 1, 1, 0], [0, 0, 0, 1, 1], [1, 1, 1, 1, 1], [0, 0, 0, 0, 0]]"
      ]
     },
     "execution_count": 107,
     "metadata": {},
     "output_type": "execute_result"
    }
   ],
   "source": [
    "graph"
   ]
  },
  {
   "cell_type": "code",
   "execution_count": null,
   "id": "eb5206d4-d98b-4c5a-a1cf-f631e071994d",
   "metadata": {},
   "outputs": [],
   "source": [
    "def dfs("
   ]
  }
 ],
 "metadata": {
  "kernelspec": {
   "display_name": "Python 3 (ipykernel)",
   "language": "python",
   "name": "python3"
  },
  "language_info": {
   "codemirror_mode": {
    "name": "ipython",
    "version": 3
   },
   "file_extension": ".py",
   "mimetype": "text/x-python",
   "name": "python",
   "nbconvert_exporter": "python",
   "pygments_lexer": "ipython3",
   "version": "3.10.9"
  }
 },
 "nbformat": 4,
 "nbformat_minor": 5
}
