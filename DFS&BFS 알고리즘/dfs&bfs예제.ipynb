{
 "cells": [
  {
   "cell_type": "markdown",
   "id": "70567382-3e55-4c8c-a349-56824678eeb1",
   "metadata": {},
   "source": [
    "# 음료수 얼려 먹기"
   ]
  },
  {
   "cell_type": "markdown",
   "id": "28bfde88-ac0d-4a79-8eef-12b93d1c035a",
   "metadata": {},
   "source": [
    "### N × M 크기의 얼음 틀이 있다. 구멍이 뚫려 있는 부분은 0, 칸막이가 존재하는 부분은 1로 표시된다.구멍이 뚫려 있는 부분끼리 상, 하, 좌, 우로 붙어 있는 경우 서로 연결되어 있는 것으로 간주한다.이때 얼음 틀의 모양이 주어졌을 때 생성되는 총 아이스크림의 개수를 구하는 프로그램을 작성하라.\n",
    "### 다음의 4 × 5 얼음 틀 예시에서는 아이스크림이 총 3개가 생성된다"
   ]
  },
  {
   "cell_type": "markdown",
   "id": "d48b6ad2-480a-4d68-bd15-e40c598d53a0",
   "metadata": {},
   "source": [
    "- 입력\n",
    "    - 첫 번째 줄에 얼음 틀의 세로 길이 N과 가로 길이 M이 주어진다. (1 <= N, M <= 1,000)\n",
    "두 번째 줄부터 N + 1 번째 줄까지 얼음 틀의 형태가 주어진다.\n",
    "이때 구멍이 뚫려있는 부분은 0, 그렇지 않은 부분은 1이다.\n",
    "- 출력\n",
    "    - 한 번에 만들 수 있는 아이스크림의 개수를 출력한다."
   ]
  },
  {
   "cell_type": "code",
   "execution_count": 2,
   "id": "283bbe4f-28b3-40b7-8ee0-6a24b2f0ca20",
   "metadata": {},
   "outputs": [
    {
     "name": "stdin",
     "output_type": "stream",
     "text": [
      " 4 5\n"
     ]
    }
   ],
   "source": [
    "n,m = map(int,input().split())"
   ]
  },
  {
   "cell_type": "code",
   "execution_count": 106,
   "id": "72005b77-e4a0-47d0-b0fc-cbbd0ef07401",
   "metadata": {},
   "outputs": [
    {
     "name": "stdin",
     "output_type": "stream",
     "text": [
      " 0 0 1 1 0\n",
      " 0 0 0 1 1\n",
      " 1 1 1 1 1\n",
      " 0 0 0 0 0\n"
     ]
    }
   ],
   "source": [
    "graph = []\n",
    "for i in range(n):\n",
    "    graph.append(list(map(int,input().split())))"
   ]
  },
  {
   "cell_type": "code",
   "execution_count": 3,
   "id": "2266c90f-fe91-4fa0-9335-af480e5b9bcd",
   "metadata": {},
   "outputs": [],
   "source": [
    "graph = [[0, 0, 1, 1, 0], [0, 0, 0, 1, 1], [1, 1, 1, 1, 1], [0, 0, 0, 0, 0]]"
   ]
  },
  {
   "cell_type": "code",
   "execution_count": 4,
   "id": "8f880d7a-f311-41e9-add6-5256d43553ed",
   "metadata": {},
   "outputs": [],
   "source": [
    "def dfs(x,y):\n",
    "    # 행렬을 벗어나면 False 처리\n",
    "    if x <= -1 or x >= n or y <= -1 or y >= m:\n",
    "        return False\n",
    "    # [x][y]가 아직 방문하지 않았다면\n",
    "    if graph[x][y] == 0:\n",
    "        # 방문했으므로 1로 바꿔준다\n",
    "        graph[x][y] = 1\n",
    "        # 모든 행렬에 대해서 dfs함수 실행 \n",
    "        dfs(x-1,y)\n",
    "        dfs(x,y-1)\n",
    "        dfs(x+1,y)\n",
    "        dfs(x,y+1)\n",
    "        return True\n",
    "    return False"
   ]
  },
  {
   "cell_type": "code",
   "execution_count": 5,
   "id": "eb84255d-ba3e-48d9-a065-cb7b0431414f",
   "metadata": {},
   "outputs": [
    {
     "name": "stdout",
     "output_type": "stream",
     "text": [
      "3\n"
     ]
    }
   ],
   "source": [
    "result = 0\n",
    "for i in range(n):\n",
    "    for j in range(m):\n",
    "        if dfs(i,j) == True:\n",
    "            result += 1\n",
    "print(result)"
   ]
  },
  {
   "cell_type": "markdown",
   "id": "dc5c0a8b-102a-4dd7-9473-869798cb2f1f",
   "metadata": {},
   "source": [
    "# 미로탈출"
   ]
  },
  {
   "cell_type": "markdown",
   "id": "e7e4ee5e-e739-4997-91ae-97ef22f5832c",
   "metadata": {},
   "source": [
    "#### N x M 크기의 직사각형 형태의 미로에 여러 마리의 괴물이 있어 이를 피해 탈출해야 한다. \n",
    "#### 현재 위치는 (1, 1)이고 미로의 출구는 (N,M)의 위치에 존재하며 한 번에 한 칸씩 이동할 수 있다. \n",
    "#### 괴물이 있는 부분은 0으로, 괴물이 없는 부분은 1로 표시되어 있다. \n",
    "#### 미로는 반드시 탈출할 수 있는 형태로 제시된다. 탈출하기 위해 움직여야하는 최소 칸의 개수를 구하라. \n",
    "#### 칸을 셀 때는 시작 칸과 마지막 칸을 모두 포함해서 계산한다."
   ]
  },
  {
   "cell_type": "markdown",
   "id": "8bc40489-acdd-4336-b9ea-db16897fb8fd",
   "metadata": {},
   "source": [
    "- 입력\n",
    "    - 첫째 줄에 두 정수 N, M(4 <= N, M <= 200)이 주어진다. 다음 N개의 줄에는 각각 M개의 정수(0혹은 1)로 미로의 정보가 주어진다. 각각의 수들은 공백 없이붙어서 입력으로 제시된다. 또한 시작 칸과 마지막 칸은 항상 1이다.\n",
    "- 출력\n",
    "    - 첫째 줄에 최소 이동 칸의 개수를 출력한다."
   ]
  },
  {
   "cell_type": "markdown",
   "id": "750794e0-1dd1-46d6-ae6a-48ccc16c37e4",
   "metadata": {},
   "source": [
    "-입력 예시\n",
    "\n",
    "    5 6\n",
    "    101010\n",
    "    111111\n",
    "    000001\n",
    "    111111\n",
    "    111111\n",
    "- 출력 예시\n",
    "\n",
    "    - 10"
   ]
  },
  {
   "cell_type": "code",
   "execution_count": 7,
   "id": "e16f20f5-3fcc-4104-84ce-31f33606b62b",
   "metadata": {},
   "outputs": [],
   "source": [
    "from collections import deque"
   ]
  },
  {
   "cell_type": "code",
   "execution_count": 44,
   "id": "e999bc1e-59fa-4fe8-96e1-f634cb8f0ee1",
   "metadata": {},
   "outputs": [
    {
     "name": "stdin",
     "output_type": "stream",
     "text": [
      " 5 6\n"
     ]
    }
   ],
   "source": [
    "n,m = map(int,input().split())"
   ]
  },
  {
   "cell_type": "code",
   "execution_count": 40,
   "id": "64679b35-5609-4733-8f84-7d47118a3283",
   "metadata": {},
   "outputs": [
    {
     "name": "stdin",
     "output_type": "stream",
     "text": [
      " 1 1 0\n",
      " 0 1 0\n",
      " 0 1 1\n"
     ]
    }
   ],
   "source": [
    "graph = []\n",
    "for i in range(n):\n",
    "    graph.append(list(map(int,input().split())))"
   ]
  },
  {
   "cell_type": "code",
   "execution_count": 45,
   "id": "862818a7-7346-4f4b-b043-8310f38b149d",
   "metadata": {},
   "outputs": [
    {
     "data": {
      "text/plain": [
       "[[2, 2, 0], [0, 2, 0], [0, 2, 2]]"
      ]
     },
     "execution_count": 45,
     "metadata": {},
     "output_type": "execute_result"
    }
   ],
   "source": [
    "graph"
   ]
  },
  {
   "cell_type": "code",
   "execution_count": 46,
   "id": "099e986a-e62e-44a3-88ce-c881fd649f89",
   "metadata": {},
   "outputs": [],
   "source": [
    "graph = [[1, 0, 1, 0, 1, 0],\n",
    " [1, 1, 1, 1, 1, 1],\n",
    " [0, 0, 0, 0, 0, 1],\n",
    " [1, 1, 1, 1, 1, 1],\n",
    " [1, 1, 1, 1, 1, 1]]"
   ]
  },
  {
   "cell_type": "code",
   "execution_count": 47,
   "id": "2e6a40c2-ada1-4a42-bbff-ccc883f44feb",
   "metadata": {},
   "outputs": [
    {
     "data": {
      "text/plain": [
       "[[1, 0, 1, 0, 1, 0],\n",
       " [1, 1, 1, 1, 1, 1],\n",
       " [0, 0, 0, 0, 0, 1],\n",
       " [1, 1, 1, 1, 1, 1],\n",
       " [1, 1, 1, 1, 1, 1]]"
      ]
     },
     "execution_count": 47,
     "metadata": {},
     "output_type": "execute_result"
    }
   ],
   "source": [
    "graph"
   ]
  },
  {
   "cell_type": "code",
   "execution_count": 48,
   "id": "08f788db-d632-4e9b-82a7-cbee1a462562",
   "metadata": {},
   "outputs": [],
   "source": [
    "dx = [-1, 1, 0, 0]\n",
    "dy = [0, 0, -1, 1]"
   ]
  },
  {
   "cell_type": "code",
   "execution_count": 49,
   "id": "477279df-5ce5-44fa-b064-d01bf05eb75b",
   "metadata": {},
   "outputs": [],
   "source": [
    "def bfs(x,y):\n",
    "    queue = deque()\n",
    "    queue.append((x,y))\n",
    "    \n",
    "    while queue:\n",
    "        x,y = queue.popleft()\n",
    "        for i in range(4):\n",
    "            nx = x + dx[i]\n",
    "            ny = y + dy[i]\n",
    "            \n",
    "            if nx < 0 or nx >= n or ny < 0 or ny >= m:\n",
    "                continue\n",
    "            if graph[nx][ny] == 0:\n",
    "                continue\n",
    "            if graph[nx][ny] == 1:\n",
    "                graph[nx][ny] = graph[nx][ny] + 1\n",
    "                queue.append((nx,ny))\n",
    "    return graph[n-1][m-1]"
   ]
  },
  {
   "cell_type": "code",
   "execution_count": 50,
   "id": "b9697e1c-9cf5-4103-a0b9-e676e6ae7244",
   "metadata": {},
   "outputs": [
    {
     "data": {
      "text/plain": [
       "2"
      ]
     },
     "execution_count": 50,
     "metadata": {},
     "output_type": "execute_result"
    }
   ],
   "source": [
    "bfs(0,0)"
   ]
  },
  {
   "cell_type": "code",
   "execution_count": null,
   "id": "58f2edc3-2631-42f2-8095-d330078f7e61",
   "metadata": {},
   "outputs": [],
   "source": []
  }
 ],
 "metadata": {
  "kernelspec": {
   "display_name": "Python 3 (ipykernel)",
   "language": "python",
   "name": "python3"
  },
  "language_info": {
   "codemirror_mode": {
    "name": "ipython",
    "version": 3
   },
   "file_extension": ".py",
   "mimetype": "text/x-python",
   "name": "python",
   "nbconvert_exporter": "python",
   "pygments_lexer": "ipython3",
   "version": "3.10.9"
  }
 },
 "nbformat": 4,
 "nbformat_minor": 5
}
